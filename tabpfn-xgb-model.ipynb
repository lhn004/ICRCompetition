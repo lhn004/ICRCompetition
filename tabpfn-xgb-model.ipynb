{
 "cells": [
  {
   "cell_type": "markdown",
   "id": "2866acc4",
   "metadata": {
    "papermill": {
     "duration": 0.013838,
     "end_time": "2023-06-19T02:32:03.943881",
     "exception": false,
     "start_time": "2023-06-19T02:32:03.930043",
     "status": "completed"
    },
    "tags": []
   },
   "source": [
    "This notebook was copied from VADIM KAMAEV's notebook (https://www.kaggle.com/code/vadimkamaev/icr-identify-age), I would also like to give a shout-out to SAMUEL's idea of using Tabpfn transformer on this dataset (https://www.kaggle.com/code/muelsamu/simple-tabpfn-approach-for-score-of-15-in-1-min/input). Also i am using validation from this amazing notebook (by ERTUĞRUL DEMIR) : https://www.kaggle.com/code/datafan07/icr-simple-eda-baseline"
   ]
  },
  {
   "cell_type": "code",
   "execution_count": 1,
   "id": "cdd515c4",
   "metadata": {
    "execution": {
     "iopub.execute_input": "2023-06-19T02:32:03.972328Z",
     "iopub.status.busy": "2023-06-19T02:32:03.971889Z",
     "iopub.status.idle": "2023-06-19T02:32:16.303107Z",
     "shell.execute_reply": "2023-06-19T02:32:16.301829Z"
    },
    "papermill": {
     "duration": 12.348504,
     "end_time": "2023-06-19T02:32:16.305822",
     "exception": false,
     "start_time": "2023-06-19T02:32:03.957318",
     "status": "completed"
    },
    "tags": []
   },
   "outputs": [
    {
     "name": "stdout",
     "output_type": "stream",
     "text": [
      "Looking in links: file:///kaggle/input/pip-packages-icr/pip-packages\r\n",
      "Processing /kaggle/input/pip-packages-icr/pip-packages/tabpfn-0.1.9-py3-none-any.whl\r\n",
      "Requirement already satisfied: numpy>=1.21.2 in /opt/conda/lib/python3.10/site-packages (from tabpfn) (1.23.5)\r\n",
      "Requirement already satisfied: torch>=1.9.0 in /opt/conda/lib/python3.10/site-packages (from tabpfn) (2.0.0)\r\n",
      "Requirement already satisfied: requests>=2.23.0 in /opt/conda/lib/python3.10/site-packages (from tabpfn) (2.28.2)\r\n",
      "Requirement already satisfied: scikit-learn>=0.24.2 in /opt/conda/lib/python3.10/site-packages (from tabpfn) (1.2.2)\r\n",
      "Requirement already satisfied: pyyaml>=5.4.1 in /opt/conda/lib/python3.10/site-packages (from tabpfn) (6.0)\r\n",
      "Requirement already satisfied: idna<4,>=2.5 in /opt/conda/lib/python3.10/site-packages (from requests>=2.23.0->tabpfn) (3.4)\r\n",
      "Requirement already satisfied: urllib3<1.27,>=1.21.1 in /opt/conda/lib/python3.10/site-packages (from requests>=2.23.0->tabpfn) (1.26.15)\r\n",
      "Requirement already satisfied: certifi>=2017.4.17 in /opt/conda/lib/python3.10/site-packages (from requests>=2.23.0->tabpfn) (2022.12.7)\r\n",
      "Requirement already satisfied: charset-normalizer<4,>=2 in /opt/conda/lib/python3.10/site-packages (from requests>=2.23.0->tabpfn) (2.1.1)\r\n",
      "Requirement already satisfied: scipy>=1.3.2 in /opt/conda/lib/python3.10/site-packages (from scikit-learn>=0.24.2->tabpfn) (1.9.3)\r\n",
      "Requirement already satisfied: joblib>=1.1.1 in /opt/conda/lib/python3.10/site-packages (from scikit-learn>=0.24.2->tabpfn) (1.2.0)\r\n",
      "Requirement already satisfied: threadpoolctl>=2.0.0 in /opt/conda/lib/python3.10/site-packages (from scikit-learn>=0.24.2->tabpfn) (3.1.0)\r\n",
      "Requirement already satisfied: jinja2 in /opt/conda/lib/python3.10/site-packages (from torch>=1.9.0->tabpfn) (3.1.2)\r\n",
      "Requirement already satisfied: sympy in /opt/conda/lib/python3.10/site-packages (from torch>=1.9.0->tabpfn) (1.11.1)\r\n",
      "Requirement already satisfied: filelock in /opt/conda/lib/python3.10/site-packages (from torch>=1.9.0->tabpfn) (3.11.0)\r\n",
      "Requirement already satisfied: networkx in /opt/conda/lib/python3.10/site-packages (from torch>=1.9.0->tabpfn) (3.1)\r\n",
      "Requirement already satisfied: typing-extensions in /opt/conda/lib/python3.10/site-packages (from torch>=1.9.0->tabpfn) (4.5.0)\r\n",
      "Requirement already satisfied: MarkupSafe>=2.0 in /opt/conda/lib/python3.10/site-packages (from jinja2->torch>=1.9.0->tabpfn) (2.1.2)\r\n",
      "Requirement already satisfied: mpmath>=0.19 in /opt/conda/lib/python3.10/site-packages (from sympy->torch>=1.9.0->tabpfn) (1.3.0)\r\n",
      "Installing collected packages: tabpfn\r\n",
      "Successfully installed tabpfn-0.1.9\r\n",
      "\u001b[33mWARNING: Running pip as the 'root' user can result in broken permissions and conflicting behaviour with the system package manager. It is recommended to use a virtual environment instead: https://pip.pypa.io/warnings/venv\u001b[0m\u001b[33m\r\n",
      "\u001b[0m"
     ]
    }
   ],
   "source": [
    "!pip install tabpfn --no-index --find-links=file:///kaggle/input/pip-packages-icr/pip-packages"
   ]
  },
  {
   "cell_type": "code",
   "execution_count": 2,
   "id": "c589b579",
   "metadata": {
    "execution": {
     "iopub.execute_input": "2023-06-19T02:32:16.335511Z",
     "iopub.status.busy": "2023-06-19T02:32:16.334568Z",
     "iopub.status.idle": "2023-06-19T02:32:20.315555Z",
     "shell.execute_reply": "2023-06-19T02:32:20.314230Z"
    },
    "papermill": {
     "duration": 3.998833,
     "end_time": "2023-06-19T02:32:20.318537",
     "exception": false,
     "start_time": "2023-06-19T02:32:16.319704",
     "status": "completed"
    },
    "tags": []
   },
   "outputs": [],
   "source": [
    "!mkdir -p /opt/conda/lib/python3.10/site-packages/tabpfn/models_diff\n",
    "!cp /kaggle/input/pip-packages-icr/pip-packages/prior_diff_real_checkpoint_n_0_epoch_100.cpkt /opt/conda/lib/python3.10/site-packages/tabpfn/models_diff/"
   ]
  },
  {
   "cell_type": "code",
   "execution_count": 3,
   "id": "b5e97b30",
   "metadata": {
    "execution": {
     "iopub.execute_input": "2023-06-19T02:32:20.348267Z",
     "iopub.status.busy": "2023-06-19T02:32:20.347298Z",
     "iopub.status.idle": "2023-06-19T02:32:20.355359Z",
     "shell.execute_reply": "2023-06-19T02:32:20.354411Z"
    },
    "papermill": {
     "duration": 0.025026,
     "end_time": "2023-06-19T02:32:20.357439",
     "exception": false,
     "start_time": "2023-06-19T02:32:20.332413",
     "status": "completed"
    },
    "tags": []
   },
   "outputs": [],
   "source": [
    "# Define competition's metric (from ERTUĞRUL DEMIR's notebook)\n",
    "def balanced_log_loss(y_true, y_pred):\n",
    "    y_pred = np.clip(y_pred, 1e-15, 1-1e-15)\n",
    "    y_pred / np.sum(y_pred, axis=1)[:, None]\n",
    "    nc = np.bincount(y_true)\n",
    "    \n",
    "    logloss = (-1/nc[0]*(np.sum(np.where(y_true==0,1,0) * np.log(y_pred[:,0]))) - 1/nc[1]*(np.sum(np.where(y_true!=0,1,0) * np.log(y_pred[:,1])))) / 2\n",
    "    \n",
    "    return logloss"
   ]
  },
  {
   "cell_type": "code",
   "execution_count": 4,
   "id": "de961be7",
   "metadata": {
    "execution": {
     "iopub.execute_input": "2023-06-19T02:32:20.386461Z",
     "iopub.status.busy": "2023-06-19T02:32:20.385603Z",
     "iopub.status.idle": "2023-06-19T02:32:24.993305Z",
     "shell.execute_reply": "2023-06-19T02:32:24.992220Z"
    },
    "papermill": {
     "duration": 4.624806,
     "end_time": "2023-06-19T02:32:24.995774",
     "exception": false,
     "start_time": "2023-06-19T02:32:20.370968",
     "status": "completed"
    },
    "tags": []
   },
   "outputs": [
    {
     "name": "stderr",
     "output_type": "stream",
     "text": [
      "/opt/conda/lib/python3.10/site-packages/scipy/__init__.py:146: UserWarning: A NumPy version >=1.16.5 and <1.23.0 is required for this version of SciPy (detected version 1.23.5\n",
      "  warnings.warn(f\"A NumPy version >={np_minversion} and <{np_maxversion}\"\n"
     ]
    }
   ],
   "source": [
    "import numpy as np\n",
    "import pandas as pd\n",
    "import json\n",
    "\n",
    "\n",
    "from sklearn.base import BaseEstimator\n",
    "from sklearn.impute import SimpleImputer\n",
    "import xgboost\n",
    "from tabpfn import TabPFNClassifier\n",
    "import warnings\n",
    "warnings.filterwarnings(\"ignore\")"
   ]
  },
  {
   "cell_type": "markdown",
   "id": "7333c781",
   "metadata": {
    "papermill": {
     "duration": 0.016392,
     "end_time": "2023-06-19T02:32:25.026359",
     "exception": false,
     "start_time": "2023-06-19T02:32:25.009967",
     "status": "completed"
    },
    "tags": []
   },
   "source": [
    "# loading data and performing EDA"
   ]
  },
  {
   "cell_type": "code",
   "execution_count": 5,
   "id": "21531eb9",
   "metadata": {
    "execution": {
     "iopub.execute_input": "2023-06-19T02:32:25.055545Z",
     "iopub.status.busy": "2023-06-19T02:32:25.055009Z",
     "iopub.status.idle": "2023-06-19T02:32:25.107397Z",
     "shell.execute_reply": "2023-06-19T02:32:25.106268Z"
    },
    "papermill": {
     "duration": 0.069164,
     "end_time": "2023-06-19T02:32:25.109488",
     "exception": false,
     "start_time": "2023-06-19T02:32:25.040324",
     "status": "completed"
    },
    "tags": []
   },
   "outputs": [
    {
     "name": "stdout",
     "output_type": "stream",
     "text": [
      "['B' 'A']\n"
     ]
    }
   ],
   "source": [
    "# LOAD THE DATA\n",
    "\n",
    "BASE_DIR = '/kaggle/input/icr-identify-age-related-conditions'\n",
    "# Import data directly as H2O frame\n",
    "maindf = pd.read_csv(f'{BASE_DIR}/train.csv')\n",
    "greeksdf = pd.read_csv(f'{BASE_DIR}/greeks.csv')\n",
    "testdf = pd.read_csv(f'{BASE_DIR}/test.csv')\n",
    "# train_int_df\n",
    "# = pd.read_csv('/kaggle/input/icr-integer-data/train_integerized.csv')\n",
    "\n",
    "print(maindf.EJ.unique())\n",
    "first_cat = maindf.EJ.unique()[0]\n",
    "maindf.EJ = maindf.EJ.eq(first_cat).astype('int')\n",
    "testdf.EJ = testdf.EJ.eq(first_cat).astype('int')\n",
    "# train_int_df.EJ = train_int_df.EJ.eq(first_cat).astype('int')"
   ]
  },
  {
   "cell_type": "code",
   "execution_count": 6,
   "id": "2eae5dce",
   "metadata": {
    "execution": {
     "iopub.execute_input": "2023-06-19T02:32:25.138038Z",
     "iopub.status.busy": "2023-06-19T02:32:25.137766Z",
     "iopub.status.idle": "2023-06-19T02:32:25.141497Z",
     "shell.execute_reply": "2023-06-19T02:32:25.140600Z"
    },
    "papermill": {
     "duration": 0.020365,
     "end_time": "2023-06-19T02:32:25.143732",
     "exception": false,
     "start_time": "2023-06-19T02:32:25.123367",
     "status": "completed"
    },
    "tags": []
   },
   "outputs": [],
   "source": [
    "# train_int_df"
   ]
  },
  {
   "cell_type": "code",
   "execution_count": 7,
   "id": "20969cfa",
   "metadata": {
    "execution": {
     "iopub.execute_input": "2023-06-19T02:32:25.172197Z",
     "iopub.status.busy": "2023-06-19T02:32:25.171866Z",
     "iopub.status.idle": "2023-06-19T02:32:25.175867Z",
     "shell.execute_reply": "2023-06-19T02:32:25.175015Z"
    },
    "papermill": {
     "duration": 0.020331,
     "end_time": "2023-06-19T02:32:25.177774",
     "exception": false,
     "start_time": "2023-06-19T02:32:25.157443",
     "status": "completed"
    },
    "tags": []
   },
   "outputs": [],
   "source": [
    "# maindf.describe()"
   ]
  },
  {
   "cell_type": "code",
   "execution_count": 8,
   "id": "9a00a590",
   "metadata": {
    "execution": {
     "iopub.execute_input": "2023-06-19T02:32:25.206673Z",
     "iopub.status.busy": "2023-06-19T02:32:25.205952Z",
     "iopub.status.idle": "2023-06-19T02:32:25.210154Z",
     "shell.execute_reply": "2023-06-19T02:32:25.209264Z"
    },
    "papermill": {
     "duration": 0.020981,
     "end_time": "2023-06-19T02:32:25.212256",
     "exception": false,
     "start_time": "2023-06-19T02:32:25.191275",
     "status": "completed"
    },
    "tags": []
   },
   "outputs": [],
   "source": [
    "# train_int_df.describe() "
   ]
  },
  {
   "cell_type": "code",
   "execution_count": 9,
   "id": "b33808a6",
   "metadata": {
    "execution": {
     "iopub.execute_input": "2023-06-19T02:32:25.241379Z",
     "iopub.status.busy": "2023-06-19T02:32:25.240630Z",
     "iopub.status.idle": "2023-06-19T02:32:25.260562Z",
     "shell.execute_reply": "2023-06-19T02:32:25.259468Z"
    },
    "papermill": {
     "duration": 0.036441,
     "end_time": "2023-06-19T02:32:25.262727",
     "exception": false,
     "start_time": "2023-06-19T02:32:25.226286",
     "status": "completed"
    },
    "tags": []
   },
   "outputs": [],
   "source": [
    "# Greeks contains time information that we can use, we just need to parse it to int / nan.\n",
    "\n",
    "from datetime import date, datetime\n",
    "times = greeksdf.Epsilon.copy()\n",
    "times[greeksdf.Epsilon != 'Unknown'] = greeksdf.Epsilon[greeksdf.Epsilon != 'Unknown'].map(lambda x: datetime.strptime(x,'%m/%d/%Y').toordinal())\n",
    "times[greeksdf.Epsilon == 'Unknown'] = np.nan"
   ]
  },
  {
   "cell_type": "code",
   "execution_count": 10,
   "id": "f0800373",
   "metadata": {
    "execution": {
     "iopub.execute_input": "2023-06-19T02:32:25.291566Z",
     "iopub.status.busy": "2023-06-19T02:32:25.291085Z",
     "iopub.status.idle": "2023-06-19T02:32:25.296106Z",
     "shell.execute_reply": "2023-06-19T02:32:25.295189Z"
    },
    "papermill": {
     "duration": 0.021737,
     "end_time": "2023-06-19T02:32:25.298101",
     "exception": false,
     "start_time": "2023-06-19T02:32:25.276364",
     "status": "completed"
    },
    "tags": []
   },
   "outputs": [],
   "source": [
    "# opt_params = {'subsample': 0.7,\n",
    "#  'n_estimators': 500,\n",
    "#  'max_depth': 6,\n",
    "#  'learning_rate': 0.1,\n",
    "#  'colsample_bytree': 0.8999999999999999,\n",
    "#  'colsample_bylevel': 0.7,\n",
    "#  'scale_pos_weight': 10}\n",
    "\n",
    "opt_params = {'n_estimators': 2000, \n",
    "              'max_depth': 4, \n",
    "              'colsample_bytree': 0.7, \n",
    "              'learning_rate': 0.007241565529695428, \n",
    "              'reg_lambda': 2}\n"
   ]
  },
  {
   "cell_type": "code",
   "execution_count": 11,
   "id": "1cf3b7cd",
   "metadata": {
    "execution": {
     "iopub.execute_input": "2023-06-19T02:32:25.326532Z",
     "iopub.status.busy": "2023-06-19T02:32:25.325822Z",
     "iopub.status.idle": "2023-06-19T02:32:25.335716Z",
     "shell.execute_reply": "2023-06-19T02:32:25.334925Z"
    },
    "papermill": {
     "duration": 0.026289,
     "end_time": "2023-06-19T02:32:25.337659",
     "exception": false,
     "start_time": "2023-06-19T02:32:25.311370",
     "status": "completed"
    },
    "tags": []
   },
   "outputs": [],
   "source": [
    "class WeightedEns(BaseEstimator):\n",
    "    def __init__(self):\n",
    "        self.classifiers = [xgboost.XGBClassifier(**opt_params),TabPFNClassifier(N_ensemble_configurations=64,device='cuda:0')]\n",
    "#         self.classifiers = [xgboost.XGBClassifier(**opt_params)]\n",
    "        self.imp = SimpleImputer(missing_values=np.nan, strategy='median')\n",
    "    \n",
    "#     def fit(self, X, y):\n",
    "#         cls, y = np.unique(y, return_inverse=True)\n",
    "#         self.classes_ = cls\n",
    "#         X = self.imp.fit_transform(X)\n",
    "#         for cl in self.classifiers:\n",
    "#             cl.fit(X,y)\n",
    "\n",
    "    def fit(self, X, y):\n",
    "        cls, y = np.unique(y, return_inverse=True)\n",
    "        self.classes_ = cls\n",
    "        X = self.imp.fit_transform(X)\n",
    "\n",
    "        trained_classifiers = []\n",
    "        for cl in self.classifiers:\n",
    "            cl.fit(X, y)\n",
    "            trained_classifiers.append(cl)\n",
    "\n",
    "        return trained_classifiers\n",
    "    \n",
    "    def predict_proba(self, X):\n",
    "        X = self.imp.transform(X)\n",
    "        ps = np.stack([cl.predict_proba(X) for cl in self.classifiers])\n",
    "        p = np.mean(ps,axis=0)\n",
    "        class_0_est_instances = p[:,0].sum()\n",
    "        others_est_instances = p[:,1:].sum()\n",
    "        # we reweight the probs, since the loss is also balanced like this\n",
    "        # our models out of the box optimize CE\n",
    "        # with these changes they optimize balanced CE\n",
    "        new_p = p * np.array([[1/(class_0_est_instances if i==0 else others_est_instances) for i in range(p.shape[1])]])\n",
    "        return new_p / np.sum(new_p,axis=1,keepdims=1)"
   ]
  },
  {
   "cell_type": "markdown",
   "id": "857a8562",
   "metadata": {
    "papermill": {
     "duration": 0.01362,
     "end_time": "2023-06-19T02:32:25.365120",
     "exception": false,
     "start_time": "2023-06-19T02:32:25.351500",
     "status": "completed"
    },
    "tags": []
   },
   "source": [
    "# Feature Engineering"
   ]
  },
  {
   "cell_type": "code",
   "execution_count": 12,
   "id": "e44840c0",
   "metadata": {
    "execution": {
     "iopub.execute_input": "2023-06-19T02:32:25.393570Z",
     "iopub.status.busy": "2023-06-19T02:32:25.392704Z",
     "iopub.status.idle": "2023-06-19T02:32:25.397026Z",
     "shell.execute_reply": "2023-06-19T02:32:25.396065Z"
    },
    "papermill": {
     "duration": 0.020559,
     "end_time": "2023-06-19T02:32:25.399028",
     "exception": false,
     "start_time": "2023-06-19T02:32:25.378469",
     "status": "completed"
    },
    "tags": []
   },
   "outputs": [],
   "source": [
    "# maindf['GL'] = 0.05/(maindf['GL']+0.05)\n",
    "# testdf['GL'] = 0.05/(testdf['GL']+0.05)\n"
   ]
  },
  {
   "cell_type": "code",
   "execution_count": 13,
   "id": "512956a5",
   "metadata": {
    "execution": {
     "iopub.execute_input": "2023-06-19T02:32:25.428126Z",
     "iopub.status.busy": "2023-06-19T02:32:25.427231Z",
     "iopub.status.idle": "2023-06-19T02:32:25.432431Z",
     "shell.execute_reply": "2023-06-19T02:32:25.431487Z"
    },
    "papermill": {
     "duration": 0.0218,
     "end_time": "2023-06-19T02:32:25.434580",
     "exception": false,
     "start_time": "2023-06-19T02:32:25.412780",
     "status": "completed"
    },
    "tags": []
   },
   "outputs": [],
   "source": [
    "# Set predictor and target columns\n",
    "target = 'Class'\n",
    "predictors = [n for n in maindf.columns if n != target and n not in [\"Id\"] ] # remove target and unnecessary features"
   ]
  },
  {
   "cell_type": "code",
   "execution_count": 14,
   "id": "f0722fdc",
   "metadata": {
    "execution": {
     "iopub.execute_input": "2023-06-19T02:32:25.463064Z",
     "iopub.status.busy": "2023-06-19T02:32:25.462269Z",
     "iopub.status.idle": "2023-06-19T02:32:25.469885Z",
     "shell.execute_reply": "2023-06-19T02:32:25.468973Z"
    },
    "papermill": {
     "duration": 0.024694,
     "end_time": "2023-06-19T02:32:25.472516",
     "exception": false,
     "start_time": "2023-06-19T02:32:25.447822",
     "status": "completed"
    },
    "tags": []
   },
   "outputs": [],
   "source": [
    "pred_and_time = pd.concat((maindf[predictors], times), 1)"
   ]
  },
  {
   "cell_type": "code",
   "execution_count": 15,
   "id": "56ccdd42",
   "metadata": {
    "execution": {
     "iopub.execute_input": "2023-06-19T02:32:25.503073Z",
     "iopub.status.busy": "2023-06-19T02:32:25.502276Z",
     "iopub.status.idle": "2023-06-19T02:32:25.509091Z",
     "shell.execute_reply": "2023-06-19T02:32:25.508155Z"
    },
    "papermill": {
     "duration": 0.023497,
     "end_time": "2023-06-19T02:32:25.511303",
     "exception": false,
     "start_time": "2023-06-19T02:32:25.487806",
     "status": "completed"
    },
    "tags": []
   },
   "outputs": [],
   "source": [
    "test_predictors = np.array(testdf[predictors])\n",
    "test_pred_and_time = np.concatenate((test_predictors, np.zeros((len(test_predictors),1)) + pred_and_time.Epsilon.max()+1),1)"
   ]
  },
  {
   "cell_type": "markdown",
   "id": "117c5e3c",
   "metadata": {
    "papermill": {
     "duration": 0.013913,
     "end_time": "2023-06-19T02:32:25.540612",
     "exception": false,
     "start_time": "2023-06-19T02:32:25.526699",
     "status": "completed"
    },
    "tags": []
   },
   "source": [
    "# Validation"
   ]
  },
  {
   "cell_type": "code",
   "execution_count": 16,
   "id": "f07c391d",
   "metadata": {
    "execution": {
     "iopub.execute_input": "2023-06-19T02:32:25.569772Z",
     "iopub.status.busy": "2023-06-19T02:32:25.569180Z",
     "iopub.status.idle": "2023-06-19T02:32:25.594375Z",
     "shell.execute_reply": "2023-06-19T02:32:25.593587Z"
    },
    "papermill": {
     "duration": 0.042135,
     "end_time": "2023-06-19T02:32:25.596673",
     "exception": false,
     "start_time": "2023-06-19T02:32:25.554538",
     "status": "completed"
    },
    "tags": []
   },
   "outputs": [],
   "source": [
    "import sys\n",
    "sys.path.append('/kaggle/input/iterativestratification')\n",
    "from scipy import stats\n",
    "from sklearn.metrics import log_loss,accuracy_score\n",
    "from sklearn.model_selection import GridSearchCV, train_test_split ,ParameterGrid ,ParameterSampler,learning_curve,LearningCurveDisplay ,StratifiedKFold\n",
    "from iterstrat.ml_stratifiers import MultilabelStratifiedKFold"
   ]
  },
  {
   "cell_type": "code",
   "execution_count": 17,
   "id": "55c9aad9",
   "metadata": {
    "execution": {
     "iopub.execute_input": "2023-06-19T02:32:25.626078Z",
     "iopub.status.busy": "2023-06-19T02:32:25.625244Z",
     "iopub.status.idle": "2023-06-19T02:32:25.629176Z",
     "shell.execute_reply": "2023-06-19T02:32:25.628449Z"
    },
    "papermill": {
     "duration": 0.020659,
     "end_time": "2023-06-19T02:32:25.631167",
     "exception": false,
     "start_time": "2023-06-19T02:32:25.610508",
     "status": "completed"
    },
    "tags": []
   },
   "outputs": [],
   "source": [
    "# import sklearn\n",
    "# sklearn.metrics.get_scorer_names()"
   ]
  },
  {
   "cell_type": "code",
   "execution_count": 18,
   "id": "eb0a356f",
   "metadata": {
    "execution": {
     "iopub.execute_input": "2023-06-19T02:32:25.660043Z",
     "iopub.status.busy": "2023-06-19T02:32:25.659346Z",
     "iopub.status.idle": "2023-06-19T02:32:51.910687Z",
     "shell.execute_reply": "2023-06-19T02:32:51.909612Z"
    },
    "papermill": {
     "duration": 26.267856,
     "end_time": "2023-06-19T02:32:51.912867",
     "exception": false,
     "start_time": "2023-06-19T02:32:25.645011",
     "status": "completed"
    },
    "tags": []
   },
   "outputs": [
    {
     "name": "stdout",
     "output_type": "stream",
     "text": [
      "Loading model that can be used for inference only\n",
      "Using a Transformer with 25.82 M parameters\n",
      "CV :  0.19386140826302245\n"
     ]
    }
   ],
   "source": [
    "m = WeightedEns()\n",
    "# m = xgboost.XGBClassifier(enable_categorical = True)\n",
    "oof = np.zeros((len(maindf), 2))\n",
    "\n",
    "skf = MultilabelStratifiedKFold(n_splits=5, shuffle=True, random_state=42)\n",
    "\n",
    "final_preds = []\n",
    "\n",
    "df = pd.concat((maindf, times), 1)\n",
    "\n",
    "for train_index,val_index in skf.split(df, greeksdf.iloc[:,1:-1]):\n",
    "    X_train, X_val = df.loc[train_index, predictors + ['Epsilon'] ], df.loc[val_index, predictors + ['Epsilon'] ]\n",
    "    y_train, y_val = df.loc[train_index, 'Class'], df.loc[val_index, 'Class']\n",
    "    \n",
    "    m.fit(X_train,y_train)\n",
    "    preds = m.predict_proba(X_val)\n",
    "    \n",
    "    oof[val_index, :] = preds\n",
    "print(\"CV : \" ,balanced_log_loss(maindf['Class'], oof))"
   ]
  },
  {
   "cell_type": "code",
   "execution_count": 19,
   "id": "498303a1",
   "metadata": {
    "execution": {
     "iopub.execute_input": "2023-06-19T02:32:51.942709Z",
     "iopub.status.busy": "2023-06-19T02:32:51.941809Z",
     "iopub.status.idle": "2023-06-19T02:32:51.958379Z",
     "shell.execute_reply": "2023-06-19T02:32:51.957225Z"
    },
    "papermill": {
     "duration": 0.033736,
     "end_time": "2023-06-19T02:32:51.960628",
     "exception": false,
     "start_time": "2023-06-19T02:32:51.926892",
     "status": "completed"
    },
    "tags": []
   },
   "outputs": [
    {
     "name": "stdout",
     "output_type": "stream",
     "text": [
      "balanced log loss v2 :  0.19386140826302245\n",
      "log loss :  0.19075009872044071\n",
      "accuracy:  0.93354943273906\n"
     ]
    }
   ],
   "source": [
    "#Sanity Check\n",
    "def balance_loglossv2(y_true, y_pred):\n",
    "    target_mean = y_true.mean()\n",
    "    w0 = 1/(1-target_mean)\n",
    "    w1 = 1/target_mean\n",
    "    sample_weight = [w0 if y == 0 else w1 for y in y_true]\n",
    "    loss = log_loss(y_true, y_pred, sample_weight=sample_weight)\n",
    "    \n",
    "    return loss\n",
    "\n",
    "print('balanced log loss v2 : ',balance_loglossv2(maindf['Class'], oof))  \n",
    "print('log loss : ', log_loss(maindf['Class'], oof))\n",
    "print('accuracy: ', accuracy_score(maindf['Class'], np.round(oof[:, 1])))"
   ]
  },
  {
   "cell_type": "markdown",
   "id": "5f434340",
   "metadata": {
    "papermill": {
     "duration": 0.013704,
     "end_time": "2023-06-19T02:32:51.988991",
     "exception": false,
     "start_time": "2023-06-19T02:32:51.975287",
     "status": "completed"
    },
    "tags": []
   },
   "source": [
    "**Now let's check what happens when we apply the threshold :**"
   ]
  },
  {
   "cell_type": "code",
   "execution_count": 20,
   "id": "614ac070",
   "metadata": {
    "execution": {
     "iopub.execute_input": "2023-06-19T02:32:52.019029Z",
     "iopub.status.busy": "2023-06-19T02:32:52.018723Z",
     "iopub.status.idle": "2023-06-19T02:33:14.269236Z",
     "shell.execute_reply": "2023-06-19T02:33:14.267210Z"
    },
    "papermill": {
     "duration": 22.267844,
     "end_time": "2023-06-19T02:33:14.271316",
     "exception": false,
     "start_time": "2023-06-19T02:32:52.003472",
     "status": "completed"
    },
    "tags": []
   },
   "outputs": [
    {
     "name": "stdout",
     "output_type": "stream",
     "text": [
      "Loading model that can be used for inference only\n",
      "Using a Transformer with 25.82 M parameters\n"
     ]
    },
    {
     "name": "stderr",
     "output_type": "stream",
     "text": [
      "/tmp/ipykernel_24/611376446.py:9: FutureWarning: In a future version of pandas all arguments of concat except for the argument 'objs' will be keyword-only.\n",
      "  df = pd.concat((maindf, times), 1)\n"
     ]
    },
    {
     "name": "stdout",
     "output_type": "stream",
     "text": [
      "CV :  0.42340951657205184\n"
     ]
    }
   ],
   "source": [
    "m = WeightedEns()\n",
    "\n",
    "oof = np.zeros((len(maindf), 2))\n",
    "\n",
    "skf = MultilabelStratifiedKFold(n_splits=5, shuffle=True, random_state=42)\n",
    "\n",
    "final_preds = []\n",
    "\n",
    "df = pd.concat((maindf, times), 1)\n",
    "\n",
    "for train_index,val_index in skf.split(df, greeksdf.iloc[:,1:-1]):\n",
    "\n",
    "    X_train, X_val = df.loc[train_index, predictors + ['Epsilon'] ], df.loc[val_index, predictors + ['Epsilon'] ]\n",
    "    y_train, y_val = df.loc[train_index, 'Class'], df.loc[val_index, 'Class']\n",
    "\n",
    "    m.fit(X_train,y_train)\n",
    "    preds = m.predict_proba(X_val)\n",
    "\n",
    "    preds[:,:1][preds[:,:1] > 0.84] = 1\n",
    "    preds[:,:1][preds[:,:1] < 0.14] = 0\n",
    "\n",
    "    preds[:,1:][preds[:,1:] > 0.84] = 1\n",
    "    preds[:,1:][preds[:,1:] < 0.14] = 0\n",
    "\n",
    "\n",
    "    oof[val_index, :] = preds\n",
    "print(\"CV : \" ,balanced_log_loss(maindf['Class'], oof))\n"
   ]
  },
  {
   "cell_type": "code",
   "execution_count": 21,
   "id": "9617abd6",
   "metadata": {
    "execution": {
     "iopub.execute_input": "2023-06-19T02:33:14.302901Z",
     "iopub.status.busy": "2023-06-19T02:33:14.302594Z",
     "iopub.status.idle": "2023-06-19T02:33:14.318619Z",
     "shell.execute_reply": "2023-06-19T02:33:14.317599Z"
    },
    "papermill": {
     "duration": 0.034455,
     "end_time": "2023-06-19T02:33:14.320990",
     "exception": false,
     "start_time": "2023-06-19T02:33:14.286535",
     "status": "completed"
    },
    "tags": []
   },
   "outputs": [
    {
     "name": "stdout",
     "output_type": "stream",
     "text": [
      "balanced log loss v2 :  0.4377376996237792\n",
      "log loss :  0.4300266140516434\n",
      "accuracy:  0.93354943273906\n"
     ]
    }
   ],
   "source": [
    "#Sanity Check\n",
    "def balance_loglossv2(y_true, y_pred):\n",
    "    target_mean = y_true.mean()\n",
    "    w0 = 1/(1-target_mean)\n",
    "    w1 = 1/target_mean\n",
    "    sample_weight = [w0 if y == 0 else w1 for y in y_true]\n",
    "    loss = log_loss(y_true, y_pred, sample_weight=sample_weight)\n",
    "    \n",
    "    return loss\n",
    "\n",
    "print('balanced log loss v2 : ',balance_loglossv2(maindf['Class'], oof))  \n",
    "print('log loss : ', log_loss(maindf['Class'], oof))\n",
    "print('accuracy: ', accuracy_score(maindf['Class'], np.round(oof[:, 1])))"
   ]
  },
  {
   "cell_type": "markdown",
   "id": "02acbc1a",
   "metadata": {
    "papermill": {
     "duration": 0.014128,
     "end_time": "2023-06-19T02:33:14.351400",
     "exception": false,
     "start_time": "2023-06-19T02:33:14.337272",
     "status": "completed"
    },
    "tags": []
   },
   "source": [
    "**Notice how badly the log loss is affected by applying the threshold , we can hence deduce that this postprocessing is a very risky approach and might not generalize well to the private LB , please refer to this discussion for more info :**  https://www.kaggle.com/competitions/icr-identify-age-related-conditions/discussion/414209"
   ]
  },
  {
   "cell_type": "markdown",
   "id": "533545b8",
   "metadata": {
    "papermill": {
     "duration": 0.014197,
     "end_time": "2023-06-19T02:33:14.380404",
     "exception": false,
     "start_time": "2023-06-19T02:33:14.366207",
     "status": "completed"
    },
    "tags": []
   },
   "source": [
    "# Hyperparmeter Tuning"
   ]
  },
  {
   "cell_type": "code",
   "execution_count": 22,
   "id": "57be372b",
   "metadata": {
    "execution": {
     "iopub.execute_input": "2023-06-19T02:33:14.412286Z",
     "iopub.status.busy": "2023-06-19T02:33:14.410577Z",
     "iopub.status.idle": "2023-06-19T02:33:14.415552Z",
     "shell.execute_reply": "2023-06-19T02:33:14.414622Z"
    },
    "papermill": {
     "duration": 0.022753,
     "end_time": "2023-06-19T02:33:14.417639",
     "exception": false,
     "start_time": "2023-06-19T02:33:14.394886",
     "status": "completed"
    },
    "tags": []
   },
   "outputs": [],
   "source": [
    "# from sklearn.model_selection import RandomizedSearchCV, GridSearchCV, StratifiedKFold\n",
    "# from sklearn.multioutput import MultiOutputClassifier"
   ]
  },
  {
   "cell_type": "code",
   "execution_count": 23,
   "id": "9f9dd4f8",
   "metadata": {
    "execution": {
     "iopub.execute_input": "2023-06-19T02:33:14.447421Z",
     "iopub.status.busy": "2023-06-19T02:33:14.446732Z",
     "iopub.status.idle": "2023-06-19T02:33:14.450901Z",
     "shell.execute_reply": "2023-06-19T02:33:14.450030Z"
    },
    "papermill": {
     "duration": 0.021163,
     "end_time": "2023-06-19T02:33:14.452809",
     "exception": false,
     "start_time": "2023-06-19T02:33:14.431646",
     "status": "completed"
    },
    "tags": []
   },
   "outputs": [],
   "source": [
    "# # instantiate labelencoder object\n",
    "# from sklearn.preprocessing import LabelEncoder\n",
    "# categorical_cols=['Alpha','Beta','Gamma','Delta']\n",
    "# le = LabelEncoder()\n",
    "# le_df = greeksdf.iloc[:,1:-1]\n",
    "# # apply le on categorical feature columns\n",
    "# le_df[categorical_cols] = le_df[categorical_cols].apply(lambda col: le.fit_transform(col))"
   ]
  },
  {
   "cell_type": "code",
   "execution_count": 24,
   "id": "6e2d068e",
   "metadata": {
    "execution": {
     "iopub.execute_input": "2023-06-19T02:33:14.482405Z",
     "iopub.status.busy": "2023-06-19T02:33:14.481553Z",
     "iopub.status.idle": "2023-06-19T02:33:14.485780Z",
     "shell.execute_reply": "2023-06-19T02:33:14.484952Z"
    },
    "papermill": {
     "duration": 0.020991,
     "end_time": "2023-06-19T02:33:14.487896",
     "exception": false,
     "start_time": "2023-06-19T02:33:14.466905",
     "status": "completed"
    },
    "tags": []
   },
   "outputs": [],
   "source": [
    "# df = pd.concat((maindf, times), 1)\n",
    "# # df = SimpleImputer(missing_values=np.nan, strategy='median').fit_transform(df)\n",
    "# df = df.fillna(df.median())"
   ]
  },
  {
   "cell_type": "code",
   "execution_count": 25,
   "id": "928fce3d",
   "metadata": {
    "execution": {
     "iopub.execute_input": "2023-06-19T02:33:14.517927Z",
     "iopub.status.busy": "2023-06-19T02:33:14.516530Z",
     "iopub.status.idle": "2023-06-19T02:33:14.520940Z",
     "shell.execute_reply": "2023-06-19T02:33:14.520109Z"
    },
    "papermill": {
     "duration": 0.021202,
     "end_time": "2023-06-19T02:33:14.522942",
     "exception": false,
     "start_time": "2023-06-19T02:33:14.501740",
     "status": "completed"
    },
    "tags": []
   },
   "outputs": [],
   "source": [
    "# X = df.loc[:, predictors + ['Epsilon'] ]\n",
    "# y = df.loc[:,'Class']"
   ]
  },
  {
   "cell_type": "code",
   "execution_count": 26,
   "id": "8b346145",
   "metadata": {
    "execution": {
     "iopub.execute_input": "2023-06-19T02:33:14.553614Z",
     "iopub.status.busy": "2023-06-19T02:33:14.552206Z",
     "iopub.status.idle": "2023-06-19T02:33:14.556718Z",
     "shell.execute_reply": "2023-06-19T02:33:14.555790Z"
    },
    "papermill": {
     "duration": 0.021199,
     "end_time": "2023-06-19T02:33:14.558692",
     "exception": false,
     "start_time": "2023-06-19T02:33:14.537493",
     "status": "completed"
    },
    "tags": []
   },
   "outputs": [],
   "source": [
    "# X.shape, y.shape"
   ]
  },
  {
   "cell_type": "code",
   "execution_count": 27,
   "id": "2ec6ed46",
   "metadata": {
    "execution": {
     "iopub.execute_input": "2023-06-19T02:33:14.589610Z",
     "iopub.status.busy": "2023-06-19T02:33:14.588117Z",
     "iopub.status.idle": "2023-06-19T02:33:14.593511Z",
     "shell.execute_reply": "2023-06-19T02:33:14.592664Z"
    },
    "papermill": {
     "duration": 0.022816,
     "end_time": "2023-06-19T02:33:14.595453",
     "exception": false,
     "start_time": "2023-06-19T02:33:14.572637",
     "status": "completed"
    },
    "tags": []
   },
   "outputs": [],
   "source": [
    "# # Perform hyperparameter tuning using GridSearchCV\n",
    "# from sklearn.metrics import make_scorer\n",
    "# print('Performing hyperparameter tuning using GridSearchCV...')\n",
    "# params = {'max_depth': [3, 6, 10, 15],\n",
    "#           'learning_rate': [0.01, 0.1, 0.2, 0.3, 0.4],\n",
    "#           'subsample': np.arange(0.5, 1.0, 0.1),\n",
    "#           'colsample_bytree': np.arange(0.5, 1.0, 0.1),\n",
    "#           'colsample_bylevel': np.arange(0.5, 1.0, 0.1),\n",
    "#           'n_estimators': [100, 250, 500, 750],\n",
    "#           }\n",
    "\n",
    "# _cv = StratifiedKFold(n_splits=5, shuffle = True,random_state=42)\n",
    "\n",
    "# xgb_model = xgboost.XGBClassifier(random_state=42)\n",
    "# grid_search = RandomizedSearchCV(estimator=xgb_model, param_distributions=params, scoring='roc_auc', n_jobs=-1, cv=_cv, error_score= 'raise')\n",
    "# # grid_search.fit(X,y)\n",
    "# # scoring=make_scorer(balanced_log_loss,greater_is_better= False)"
   ]
  },
  {
   "cell_type": "code",
   "execution_count": 28,
   "id": "d5ab7bf0",
   "metadata": {
    "execution": {
     "iopub.execute_input": "2023-06-19T02:33:14.626391Z",
     "iopub.status.busy": "2023-06-19T02:33:14.625025Z",
     "iopub.status.idle": "2023-06-19T02:33:14.629433Z",
     "shell.execute_reply": "2023-06-19T02:33:14.628594Z"
    },
    "papermill": {
     "duration": 0.021353,
     "end_time": "2023-06-19T02:33:14.631334",
     "exception": false,
     "start_time": "2023-06-19T02:33:14.609981",
     "status": "completed"
    },
    "tags": []
   },
   "outputs": [],
   "source": [
    "# grid_search.fit(X,y)"
   ]
  },
  {
   "cell_type": "code",
   "execution_count": 29,
   "id": "e5b8916b",
   "metadata": {
    "execution": {
     "iopub.execute_input": "2023-06-19T02:33:14.661244Z",
     "iopub.status.busy": "2023-06-19T02:33:14.660438Z",
     "iopub.status.idle": "2023-06-19T02:33:14.664536Z",
     "shell.execute_reply": "2023-06-19T02:33:14.663705Z"
    },
    "papermill": {
     "duration": 0.020974,
     "end_time": "2023-06-19T02:33:14.666480",
     "exception": false,
     "start_time": "2023-06-19T02:33:14.645506",
     "status": "completed"
    },
    "tags": []
   },
   "outputs": [],
   "source": [
    "# best_params = grid_search.best_params_"
   ]
  },
  {
   "cell_type": "code",
   "execution_count": 30,
   "id": "1b5c4ba7",
   "metadata": {
    "execution": {
     "iopub.execute_input": "2023-06-19T02:33:14.695519Z",
     "iopub.status.busy": "2023-06-19T02:33:14.694994Z",
     "iopub.status.idle": "2023-06-19T02:33:14.699089Z",
     "shell.execute_reply": "2023-06-19T02:33:14.698274Z"
    },
    "papermill": {
     "duration": 0.0207,
     "end_time": "2023-06-19T02:33:14.700997",
     "exception": false,
     "start_time": "2023-06-19T02:33:14.680297",
     "status": "completed"
    },
    "tags": []
   },
   "outputs": [],
   "source": [
    "# best_params"
   ]
  },
  {
   "cell_type": "code",
   "execution_count": 31,
   "id": "3856f3a0",
   "metadata": {
    "execution": {
     "iopub.execute_input": "2023-06-19T02:33:14.730652Z",
     "iopub.status.busy": "2023-06-19T02:33:14.730396Z",
     "iopub.status.idle": "2023-06-19T02:33:14.734762Z",
     "shell.execute_reply": "2023-06-19T02:33:14.733913Z"
    },
    "papermill": {
     "duration": 0.022301,
     "end_time": "2023-06-19T02:33:14.737130",
     "exception": false,
     "start_time": "2023-06-19T02:33:14.714829",
     "status": "completed"
    },
    "tags": []
   },
   "outputs": [],
   "source": [
    "# best_params = {'subsample': 0.7999999999999999,\n",
    "#  'n_estimators': 250,\n",
    "#  'max_depth': 6,\n",
    "#  'learning_rate': 0.1,\n",
    "#  'colsample_bytree': 0.7,\n",
    "#  'colsample_bylevel': 0.7}\n",
    "\n",
    "\n",
    "# xgb_cw = xgboost.XGBClassifier(**best_params)\n",
    "\n",
    "# # define grid\n",
    "# weights = [1, 10, 25, 50, 75, 99, 100, 1000]\n",
    "# param_grid = dict(scale_pos_weight=weights)\n",
    "# # define evaluation procedure\n",
    "# _cv = StratifiedKFold(n_splits=5, shuffle = True,random_state=42)\n",
    "# # define grid search\n",
    "# grid = GridSearchCV(estimator=xgb_cw, param_grid=param_grid, n_jobs=-1, cv=_cv, scoring='roc_auc')\n",
    "# # execute the grid search\n",
    "# grid_result = grid.fit(X, y)\n",
    "# # report the best configuration\n",
    "# print(\"Best: %f using %s\" % (grid_result.best_score_, grid_result.best_params_))\n",
    "# # report all configurations\n",
    "# means = grid_result.cv_results_['mean_test_score']\n",
    "# stds = grid_result.cv_results_['std_test_score']\n",
    "# params = grid_result.cv_results_['params']\n",
    "# for mean, stdev, param in zip(means, stds, params):\n",
    "#     print(\"%f (%f) with: %r\" % (mean, stdev, param))"
   ]
  },
  {
   "cell_type": "code",
   "execution_count": 32,
   "id": "6e9bee58",
   "metadata": {
    "execution": {
     "iopub.execute_input": "2023-06-19T02:33:14.766775Z",
     "iopub.status.busy": "2023-06-19T02:33:14.766486Z",
     "iopub.status.idle": "2023-06-19T02:33:14.770315Z",
     "shell.execute_reply": "2023-06-19T02:33:14.769409Z"
    },
    "papermill": {
     "duration": 0.020978,
     "end_time": "2023-06-19T02:33:14.772223",
     "exception": false,
     "start_time": "2023-06-19T02:33:14.751245",
     "status": "completed"
    },
    "tags": []
   },
   "outputs": [],
   "source": [
    "# grid_search.best_score_"
   ]
  },
  {
   "cell_type": "code",
   "execution_count": 33,
   "id": "799257d6",
   "metadata": {
    "execution": {
     "iopub.execute_input": "2023-06-19T02:33:14.801597Z",
     "iopub.status.busy": "2023-06-19T02:33:14.801345Z",
     "iopub.status.idle": "2023-06-19T02:33:14.805132Z",
     "shell.execute_reply": "2023-06-19T02:33:14.804273Z"
    },
    "papermill": {
     "duration": 0.020749,
     "end_time": "2023-06-19T02:33:14.807237",
     "exception": false,
     "start_time": "2023-06-19T02:33:14.786488",
     "status": "completed"
    },
    "tags": []
   },
   "outputs": [],
   "source": [
    "# from skleabest_score_rn.metrics import make_scorer\n",
    "\n",
    "# skf = StratifiedKFold(n_splits=5, shuffle=True, random_state=42)\n",
    "\n",
    "# random_search = RandomizedSearchCV(xgb, param_distributions=params, scoring=make_scorer(balanced_log_loss,greater_is_better= False) , n_jobs=-1, cv=5, verbose=0, random_state=42)\n",
    "# random_search.fit(df.loc[:, predictors + ['Epsilon'] ], df.loc[:,'Class'])"
   ]
  },
  {
   "cell_type": "code",
   "execution_count": 34,
   "id": "ea012be1",
   "metadata": {
    "execution": {
     "iopub.execute_input": "2023-06-19T02:33:14.837025Z",
     "iopub.status.busy": "2023-06-19T02:33:14.836229Z",
     "iopub.status.idle": "2023-06-19T02:33:14.840339Z",
     "shell.execute_reply": "2023-06-19T02:33:14.839521Z"
    },
    "papermill": {
     "duration": 0.020994,
     "end_time": "2023-06-19T02:33:14.842329",
     "exception": false,
     "start_time": "2023-06-19T02:33:14.821335",
     "status": "completed"
    },
    "tags": []
   },
   "outputs": [],
   "source": [
    "# random_search.fit(df.loc[:, predictors + ['Epsilon'] ], df.loc[:,'Class'])"
   ]
  },
  {
   "cell_type": "code",
   "execution_count": 35,
   "id": "d3247dfc",
   "metadata": {
    "execution": {
     "iopub.execute_input": "2023-06-19T02:33:14.872089Z",
     "iopub.status.busy": "2023-06-19T02:33:14.871182Z",
     "iopub.status.idle": "2023-06-19T02:33:14.875415Z",
     "shell.execute_reply": "2023-06-19T02:33:14.874615Z"
    },
    "papermill": {
     "duration": 0.021105,
     "end_time": "2023-06-19T02:33:14.877400",
     "exception": false,
     "start_time": "2023-06-19T02:33:14.856295",
     "status": "completed"
    },
    "tags": []
   },
   "outputs": [],
   "source": [
    "# random_search.best_params_"
   ]
  },
  {
   "cell_type": "code",
   "execution_count": 36,
   "id": "9cdf5e14",
   "metadata": {
    "execution": {
     "iopub.execute_input": "2023-06-19T02:33:14.907303Z",
     "iopub.status.busy": "2023-06-19T02:33:14.906437Z",
     "iopub.status.idle": "2023-06-19T02:33:14.911703Z",
     "shell.execute_reply": "2023-06-19T02:33:14.910856Z"
    },
    "papermill": {
     "duration": 0.022415,
     "end_time": "2023-06-19T02:33:14.913712",
     "exception": false,
     "start_time": "2023-06-19T02:33:14.891297",
     "status": "completed"
    },
    "tags": []
   },
   "outputs": [],
   "source": [
    "# def xgb_optimizer(trial, X, y, K):\n",
    "#     n_estimators = trial.suggest_categorical('n_estimators', [500, 1000, 2000])\n",
    "#     max_depth = trial.suggest_int('max_depth', 4, 10)\n",
    "#     colsample_bytree = trial.suggest_categorical('colsample_bytree', [0.5, 0.6, 0.7, 0.8])\n",
    "#     learning_rate = trial.suggest_float('learning_rate', 1e-3, 1e-2)\n",
    "#     reg_lambda = trial.suggest_categorical('reg_lambda', [0.1, 0.5, 1, 2])\n",
    "    \n",
    "    \n",
    "#     model = xgboost.XGBClassifier(n_estimators=n_estimators,\n",
    "#                           max_depth=max_depth,\n",
    "#                           colsample_bytree=colsample_bytree,\n",
    "#                           learning_rate=learning_rate,\n",
    "#                           reg_lambda=reg_lambda)\n",
    "# #                          scale_pos_weight=4.71)  ## we set class imbalance by using sampling method.\n",
    "    \n",
    "    \n",
    "#     folds = StratifiedKFold(n_splits=K)\n",
    "#     losses = []\n",
    "    \n",
    "#     for train_idx, val_idx in folds.split(X, y):\n",
    "#         X_train = X.iloc[train_idx, :]\n",
    "#         y_train = y.iloc[train_idx]\n",
    "        \n",
    "#         X_val = X.iloc[val_idx, :]\n",
    "#         y_val = y.iloc[val_idx]\n",
    "        \n",
    "#         model.fit(X_train, y_train)\n",
    "#         preds = model.predict_proba(X_val)\n",
    "#         loss = evaluation_metric(y_val, preds)\n",
    "#         losses.append(loss)\n",
    "    \n",
    "    \n",
    "#     return np.mean(losses)"
   ]
  },
  {
   "cell_type": "code",
   "execution_count": 37,
   "id": "dc1665da",
   "metadata": {
    "execution": {
     "iopub.execute_input": "2023-06-19T02:33:14.943840Z",
     "iopub.status.busy": "2023-06-19T02:33:14.942992Z",
     "iopub.status.idle": "2023-06-19T02:33:14.947616Z",
     "shell.execute_reply": "2023-06-19T02:33:14.946725Z"
    },
    "papermill": {
     "duration": 0.021849,
     "end_time": "2023-06-19T02:33:14.949509",
     "exception": false,
     "start_time": "2023-06-19T02:33:14.927660",
     "status": "completed"
    },
    "tags": []
   },
   "outputs": [],
   "source": [
    "# # set configs\n",
    "# is_tuning = True\n",
    "# is_scaling = True\n",
    "# is_pca = False\n",
    "# apply_vif = False\n",
    "# sampling_method = 'hybrid' # 'under' or 'over'\n",
    "# if is_tuning:\n",
    "#     n_trials=30\n",
    "    \n",
    "# # Keras model compile\n",
    "# learning_rate = 1e-2\n",
    "# batch_size = 32\n",
    "# epochs = 10"
   ]
  },
  {
   "cell_type": "code",
   "execution_count": 38,
   "id": "6908d0d8",
   "metadata": {
    "execution": {
     "iopub.execute_input": "2023-06-19T02:33:14.979980Z",
     "iopub.status.busy": "2023-06-19T02:33:14.979099Z",
     "iopub.status.idle": "2023-06-19T02:33:14.983545Z",
     "shell.execute_reply": "2023-06-19T02:33:14.982672Z"
    },
    "papermill": {
     "duration": 0.021988,
     "end_time": "2023-06-19T02:33:14.985607",
     "exception": false,
     "start_time": "2023-06-19T02:33:14.963619",
     "status": "completed"
    },
    "tags": []
   },
   "outputs": [],
   "source": [
    "# import random\n",
    "# import os\n",
    "# import tensorflow as tf\n",
    "\n",
    "\n",
    "# def seed_everything(seed: int = 42):\n",
    "#     random.seed(seed)\n",
    "#     np.random.seed(seed)\n",
    "#     os.environ[\"PYTHONHASHSEED\"] = str(seed)\n",
    "#     tf.random.set_seed(seed)\n",
    "    \n",
    "# seed_everything()"
   ]
  },
  {
   "cell_type": "code",
   "execution_count": 39,
   "id": "0426d524",
   "metadata": {
    "execution": {
     "iopub.execute_input": "2023-06-19T02:33:15.015468Z",
     "iopub.status.busy": "2023-06-19T02:33:15.014592Z",
     "iopub.status.idle": "2023-06-19T02:33:15.018730Z",
     "shell.execute_reply": "2023-06-19T02:33:15.017789Z"
    },
    "papermill": {
     "duration": 0.020861,
     "end_time": "2023-06-19T02:33:15.020772",
     "exception": false,
     "start_time": "2023-06-19T02:33:14.999911",
     "status": "completed"
    },
    "tags": []
   },
   "outputs": [],
   "source": [
    "# evaluation_metric = balanced_log_loss"
   ]
  },
  {
   "cell_type": "code",
   "execution_count": 40,
   "id": "fc245fd5",
   "metadata": {
    "execution": {
     "iopub.execute_input": "2023-06-19T02:33:15.049632Z",
     "iopub.status.busy": "2023-06-19T02:33:15.049372Z",
     "iopub.status.idle": "2023-06-19T02:33:15.053179Z",
     "shell.execute_reply": "2023-06-19T02:33:15.052311Z"
    },
    "papermill": {
     "duration": 0.020435,
     "end_time": "2023-06-19T02:33:15.055092",
     "exception": false,
     "start_time": "2023-06-19T02:33:15.034657",
     "status": "completed"
    },
    "tags": []
   },
   "outputs": [],
   "source": [
    "# from functools import partial\n",
    "# import optuna\n",
    "\n",
    "# K = 4\n",
    "# opt_func = partial(xgb_optimizer, X=X, y=y, K=K)\n",
    "\n",
    "# if is_tuning:\n",
    "#     xgb_study = optuna.create_study(direction=\"minimize\")\n",
    "#     xgb_study.optimize(opt_func, n_trials=n_trials)"
   ]
  },
  {
   "cell_type": "code",
   "execution_count": 41,
   "id": "25109122",
   "metadata": {
    "execution": {
     "iopub.execute_input": "2023-06-19T02:33:15.084633Z",
     "iopub.status.busy": "2023-06-19T02:33:15.084332Z",
     "iopub.status.idle": "2023-06-19T02:33:15.088746Z",
     "shell.execute_reply": "2023-06-19T02:33:15.087805Z"
    },
    "papermill": {
     "duration": 0.021525,
     "end_time": "2023-06-19T02:33:15.090701",
     "exception": false,
     "start_time": "2023-06-19T02:33:15.069176",
     "status": "completed"
    },
    "tags": []
   },
   "outputs": [],
   "source": [
    "# # visualize experiment logs\n",
    "# def display_experiment_log(study):\n",
    "#     display(study.trials_dataframe())\n",
    "#     print(\"Best Score: %.4f\" % study.best_value)\n",
    "#     print(\"Best params: \", study.best_trial.params)\n",
    "#     history = study.trials_dataframe()\n",
    "#     display(history[history.value == study.best_value])\n",
    "#     optuna.visualization.plot_optimization_history(study).show()\n",
    "#     optuna.visualization.plot_param_importances(study).show()"
   ]
  },
  {
   "cell_type": "code",
   "execution_count": 42,
   "id": "eb11645b",
   "metadata": {
    "execution": {
     "iopub.execute_input": "2023-06-19T02:33:15.120478Z",
     "iopub.status.busy": "2023-06-19T02:33:15.119668Z",
     "iopub.status.idle": "2023-06-19T02:33:15.123747Z",
     "shell.execute_reply": "2023-06-19T02:33:15.122842Z"
    },
    "papermill": {
     "duration": 0.021079,
     "end_time": "2023-06-19T02:33:15.125707",
     "exception": false,
     "start_time": "2023-06-19T02:33:15.104628",
     "status": "completed"
    },
    "tags": []
   },
   "outputs": [],
   "source": [
    "# if is_tuning:\n",
    "#     display_experiment_log(xgb_study)"
   ]
  },
  {
   "cell_type": "markdown",
   "id": "675f7a8d",
   "metadata": {
    "papermill": {
     "duration": 0.016615,
     "end_time": "2023-06-19T02:33:15.156470",
     "exception": false,
     "start_time": "2023-06-19T02:33:15.139855",
     "status": "completed"
    },
    "tags": []
   },
   "source": [
    "# submit"
   ]
  },
  {
   "cell_type": "code",
   "execution_count": 43,
   "id": "e5d8e0d3",
   "metadata": {
    "execution": {
     "iopub.execute_input": "2023-06-19T02:33:15.185956Z",
     "iopub.status.busy": "2023-06-19T02:33:15.185675Z",
     "iopub.status.idle": "2023-06-19T02:33:29.333856Z",
     "shell.execute_reply": "2023-06-19T02:33:29.332221Z"
    },
    "papermill": {
     "duration": 14.16563,
     "end_time": "2023-06-19T02:33:29.336287",
     "exception": false,
     "start_time": "2023-06-19T02:33:15.170657",
     "status": "completed"
    },
    "tags": []
   },
   "outputs": [
    {
     "name": "stdout",
     "output_type": "stream",
     "text": [
      "Loading model that can be used for inference only\n",
      "Using a Transformer with 25.82 M parameters\n",
      "[[0.5        0.16075467 0.14661128 0.19263405]\n",
      " [0.5        0.16075467 0.14661128 0.19263405]\n",
      " [0.5        0.16075467 0.14661128 0.19263405]\n",
      " [0.5        0.16075467 0.14661128 0.19263405]\n",
      " [0.5        0.16075467 0.14661128 0.19263405]]\n"
     ]
    }
   ],
   "source": [
    "m = WeightedEns()\n",
    "m.fit(np.array(pred_and_time),np.array(greeksdf['Alpha']))\n",
    "p = m.predict_proba(test_pred_and_time)\n",
    "print(p)\n",
    "assert (m.classes_[0] == \"A\")\n",
    "p = np.concatenate((p[:,:1],np.sum(p[:,1:],1,keepdims=True)), 1)\n",
    "\n",
    "p0 = p[:,:1]\n",
    "# p0[p0 > 0.86] = 1\n",
    "# p0[p0 < 0.14] = 0\n",
    "submit=pd.DataFrame(testdf[\"Id\"], columns=[\"Id\"])\n",
    "submit[\"class_0\"] = p0\n",
    "submit[\"class_1\"] = 1 - p0\n",
    "submit.to_csv('submission.csv',index=False)"
   ]
  },
  {
   "cell_type": "code",
   "execution_count": 44,
   "id": "96f42bdc",
   "metadata": {
    "execution": {
     "iopub.execute_input": "2023-06-19T02:33:29.368577Z",
     "iopub.status.busy": "2023-06-19T02:33:29.367707Z",
     "iopub.status.idle": "2023-06-19T02:33:29.386029Z",
     "shell.execute_reply": "2023-06-19T02:33:29.385120Z"
    },
    "papermill": {
     "duration": 0.036402,
     "end_time": "2023-06-19T02:33:29.388326",
     "exception": false,
     "start_time": "2023-06-19T02:33:29.351924",
     "status": "completed"
    },
    "tags": []
   },
   "outputs": [
    {
     "data": {
      "text/html": [
       "<div>\n",
       "<style scoped>\n",
       "    .dataframe tbody tr th:only-of-type {\n",
       "        vertical-align: middle;\n",
       "    }\n",
       "\n",
       "    .dataframe tbody tr th {\n",
       "        vertical-align: top;\n",
       "    }\n",
       "\n",
       "    .dataframe thead th {\n",
       "        text-align: right;\n",
       "    }\n",
       "</style>\n",
       "<table border=\"1\" class=\"dataframe\">\n",
       "  <thead>\n",
       "    <tr style=\"text-align: right;\">\n",
       "      <th></th>\n",
       "      <th>Id</th>\n",
       "      <th>class_0</th>\n",
       "      <th>class_1</th>\n",
       "    </tr>\n",
       "  </thead>\n",
       "  <tbody>\n",
       "    <tr>\n",
       "      <th>0</th>\n",
       "      <td>00eed32682bb</td>\n",
       "      <td>0.5</td>\n",
       "      <td>0.5</td>\n",
       "    </tr>\n",
       "    <tr>\n",
       "      <th>1</th>\n",
       "      <td>010ebe33f668</td>\n",
       "      <td>0.5</td>\n",
       "      <td>0.5</td>\n",
       "    </tr>\n",
       "    <tr>\n",
       "      <th>2</th>\n",
       "      <td>02fa521e1838</td>\n",
       "      <td>0.5</td>\n",
       "      <td>0.5</td>\n",
       "    </tr>\n",
       "    <tr>\n",
       "      <th>3</th>\n",
       "      <td>040e15f562a2</td>\n",
       "      <td>0.5</td>\n",
       "      <td>0.5</td>\n",
       "    </tr>\n",
       "    <tr>\n",
       "      <th>4</th>\n",
       "      <td>046e85c7cc7f</td>\n",
       "      <td>0.5</td>\n",
       "      <td>0.5</td>\n",
       "    </tr>\n",
       "  </tbody>\n",
       "</table>\n",
       "</div>"
      ],
      "text/plain": [
       "             Id  class_0  class_1\n",
       "0  00eed32682bb      0.5      0.5\n",
       "1  010ebe33f668      0.5      0.5\n",
       "2  02fa521e1838      0.5      0.5\n",
       "3  040e15f562a2      0.5      0.5\n",
       "4  046e85c7cc7f      0.5      0.5"
      ]
     },
     "execution_count": 44,
     "metadata": {},
     "output_type": "execute_result"
    }
   ],
   "source": [
    "pd.read_csv('submission.csv')"
   ]
  },
  {
   "cell_type": "code",
   "execution_count": null,
   "id": "2a6dea88",
   "metadata": {
    "papermill": {
     "duration": 0.014369,
     "end_time": "2023-06-19T02:33:29.417301",
     "exception": false,
     "start_time": "2023-06-19T02:33:29.402932",
     "status": "completed"
    },
    "tags": []
   },
   "outputs": [],
   "source": []
  }
 ],
 "metadata": {
  "kernelspec": {
   "display_name": "Python 3",
   "language": "python",
   "name": "python3"
  },
  "language_info": {
   "codemirror_mode": {
    "name": "ipython",
    "version": 3
   },
   "file_extension": ".py",
   "mimetype": "text/x-python",
   "name": "python",
   "nbconvert_exporter": "python",
   "pygments_lexer": "ipython3",
   "version": "3.10.10"
  },
  "papermill": {
   "default_parameters": {},
   "duration": 98.794473,
   "end_time": "2023-06-19T02:33:31.737780",
   "environment_variables": {},
   "exception": null,
   "input_path": "__notebook__.ipynb",
   "output_path": "__notebook__.ipynb",
   "parameters": {},
   "start_time": "2023-06-19T02:31:52.943307",
   "version": "2.4.0"
  }
 },
 "nbformat": 4,
 "nbformat_minor": 5
}
