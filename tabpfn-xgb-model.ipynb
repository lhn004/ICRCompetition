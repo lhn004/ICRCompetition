{
 "cells": [
  {
   "cell_type": "markdown",
   "id": "4af33d91",
   "metadata": {
    "papermill": {
     "duration": 0.01408,
     "end_time": "2023-07-19T15:18:26.627927",
     "exception": false,
     "start_time": "2023-07-19T15:18:26.613847",
     "status": "completed"
    },
    "tags": []
   },
   "source": [
    "This notebook was copied from VADIM KAMAEV's notebook (https://www.kaggle.com/code/vadimkamaev/icr-identify-age), I would also like to give a shout-out to SAMUEL's idea of using Tabpfn transformer on this dataset (https://www.kaggle.com/code/muelsamu/simple-tabpfn-approach-for-score-of-15-in-1-min/input). Also i am using validation from this amazing notebook (by ERTUĞRUL DEMIR) : https://www.kaggle.com/code/datafan07/icr-simple-eda-baseline"
   ]
  },
  {
   "cell_type": "code",
   "execution_count": 1,
   "id": "01504bbf",
   "metadata": {
    "execution": {
     "iopub.execute_input": "2023-07-19T15:18:26.656094Z",
     "iopub.status.busy": "2023-07-19T15:18:26.655697Z",
     "iopub.status.idle": "2023-07-19T15:18:38.962439Z",
     "shell.execute_reply": "2023-07-19T15:18:38.961135Z"
    },
    "papermill": {
     "duration": 12.323714,
     "end_time": "2023-07-19T15:18:38.964973",
     "exception": false,
     "start_time": "2023-07-19T15:18:26.641259",
     "status": "completed"
    },
    "tags": []
   },
   "outputs": [
    {
     "name": "stdout",
     "output_type": "stream",
     "text": [
      "Looking in links: file:///kaggle/input/pip-packages-icr/pip-packages\r\n",
      "Processing /kaggle/input/pip-packages-icr/pip-packages/tabpfn-0.1.9-py3-none-any.whl\r\n",
      "Requirement already satisfied: torch>=1.9.0 in /opt/conda/lib/python3.10/site-packages (from tabpfn) (2.0.0)\r\n",
      "Requirement already satisfied: pyyaml>=5.4.1 in /opt/conda/lib/python3.10/site-packages (from tabpfn) (6.0)\r\n",
      "Requirement already satisfied: requests>=2.23.0 in /opt/conda/lib/python3.10/site-packages (from tabpfn) (2.28.2)\r\n",
      "Requirement already satisfied: scikit-learn>=0.24.2 in /opt/conda/lib/python3.10/site-packages (from tabpfn) (1.2.2)\r\n",
      "Requirement already satisfied: numpy>=1.21.2 in /opt/conda/lib/python3.10/site-packages (from tabpfn) (1.23.5)\r\n",
      "Requirement already satisfied: certifi>=2017.4.17 in /opt/conda/lib/python3.10/site-packages (from requests>=2.23.0->tabpfn) (2022.12.7)\r\n",
      "Requirement already satisfied: urllib3<1.27,>=1.21.1 in /opt/conda/lib/python3.10/site-packages (from requests>=2.23.0->tabpfn) (1.26.15)\r\n",
      "Requirement already satisfied: idna<4,>=2.5 in /opt/conda/lib/python3.10/site-packages (from requests>=2.23.0->tabpfn) (3.4)\r\n",
      "Requirement already satisfied: charset-normalizer<4,>=2 in /opt/conda/lib/python3.10/site-packages (from requests>=2.23.0->tabpfn) (2.1.1)\r\n",
      "Requirement already satisfied: scipy>=1.3.2 in /opt/conda/lib/python3.10/site-packages (from scikit-learn>=0.24.2->tabpfn) (1.9.3)\r\n",
      "Requirement already satisfied: joblib>=1.1.1 in /opt/conda/lib/python3.10/site-packages (from scikit-learn>=0.24.2->tabpfn) (1.2.0)\r\n",
      "Requirement already satisfied: threadpoolctl>=2.0.0 in /opt/conda/lib/python3.10/site-packages (from scikit-learn>=0.24.2->tabpfn) (3.1.0)\r\n",
      "Requirement already satisfied: filelock in /opt/conda/lib/python3.10/site-packages (from torch>=1.9.0->tabpfn) (3.11.0)\r\n",
      "Requirement already satisfied: sympy in /opt/conda/lib/python3.10/site-packages (from torch>=1.9.0->tabpfn) (1.11.1)\r\n",
      "Requirement already satisfied: jinja2 in /opt/conda/lib/python3.10/site-packages (from torch>=1.9.0->tabpfn) (3.1.2)\r\n",
      "Requirement already satisfied: typing-extensions in /opt/conda/lib/python3.10/site-packages (from torch>=1.9.0->tabpfn) (4.5.0)\r\n",
      "Requirement already satisfied: networkx in /opt/conda/lib/python3.10/site-packages (from torch>=1.9.0->tabpfn) (3.1)\r\n",
      "Requirement already satisfied: MarkupSafe>=2.0 in /opt/conda/lib/python3.10/site-packages (from jinja2->torch>=1.9.0->tabpfn) (2.1.2)\r\n",
      "Requirement already satisfied: mpmath>=0.19 in /opt/conda/lib/python3.10/site-packages (from sympy->torch>=1.9.0->tabpfn) (1.3.0)\r\n",
      "Installing collected packages: tabpfn\r\n",
      "Successfully installed tabpfn-0.1.9\r\n",
      "\u001b[33mWARNING: Running pip as the 'root' user can result in broken permissions and conflicting behaviour with the system package manager. It is recommended to use a virtual environment instead: https://pip.pypa.io/warnings/venv\u001b[0m\u001b[33m\r\n",
      "\u001b[0m"
     ]
    }
   ],
   "source": [
    "!pip install tabpfn --no-index --find-links=file:///kaggle/input/pip-packages-icr/pip-packages"
   ]
  },
  {
   "cell_type": "code",
   "execution_count": 2,
   "id": "8bc30fee",
   "metadata": {
    "execution": {
     "iopub.execute_input": "2023-07-19T15:18:38.999598Z",
     "iopub.status.busy": "2023-07-19T15:18:38.998761Z",
     "iopub.status.idle": "2023-07-19T15:18:42.242025Z",
     "shell.execute_reply": "2023-07-19T15:18:42.240633Z"
    },
    "papermill": {
     "duration": 3.265943,
     "end_time": "2023-07-19T15:18:42.244726",
     "exception": false,
     "start_time": "2023-07-19T15:18:38.978783",
     "status": "completed"
    },
    "tags": []
   },
   "outputs": [],
   "source": [
    "!mkdir -p /opt/conda/lib/python3.10/site-packages/tabpfn/models_diff\n",
    "!cp /kaggle/input/pip-packages-icr/pip-packages/prior_diff_real_checkpoint_n_0_epoch_100.cpkt /opt/conda/lib/python3.10/site-packages/tabpfn/models_diff/"
   ]
  },
  {
   "cell_type": "code",
   "execution_count": 3,
   "id": "aa02a286",
   "metadata": {
    "execution": {
     "iopub.execute_input": "2023-07-19T15:18:42.274786Z",
     "iopub.status.busy": "2023-07-19T15:18:42.273913Z",
     "iopub.status.idle": "2023-07-19T15:18:42.281634Z",
     "shell.execute_reply": "2023-07-19T15:18:42.280693Z"
    },
    "papermill": {
     "duration": 0.024791,
     "end_time": "2023-07-19T15:18:42.283718",
     "exception": false,
     "start_time": "2023-07-19T15:18:42.258927",
     "status": "completed"
    },
    "tags": []
   },
   "outputs": [],
   "source": [
    "# Define competition's metric (from ERTUĞRUL DEMIR's notebook)\n",
    "def balanced_log_loss(y_true, y_pred):\n",
    "    y_pred = np.clip(y_pred, 1e-15, 1-1e-15)\n",
    "    y_pred / np.sum(y_pred, axis=1)[:, None]\n",
    "    nc = np.bincount(y_true)\n",
    "    \n",
    "    logloss = (-1/nc[0]*(np.sum(np.where(y_true==0,1,0) * np.log(y_pred[:,0]))) - 1/nc[1]*(np.sum(np.where(y_true!=0,1,0) * np.log(y_pred[:,1])))) / 2\n",
    "    is_higher_better = False\n",
    "#     return \"balanced_log_loss\", logloss, is_higher_better\n",
    "\n",
    "    return logloss"
   ]
  },
  {
   "cell_type": "code",
   "execution_count": 4,
   "id": "b4790b31",
   "metadata": {
    "execution": {
     "iopub.execute_input": "2023-07-19T15:18:42.312066Z",
     "iopub.status.busy": "2023-07-19T15:18:42.311174Z",
     "iopub.status.idle": "2023-07-19T15:18:49.306528Z",
     "shell.execute_reply": "2023-07-19T15:18:49.305485Z"
    },
    "papermill": {
     "duration": 7.012656,
     "end_time": "2023-07-19T15:18:49.309673",
     "exception": false,
     "start_time": "2023-07-19T15:18:42.297017",
     "status": "completed"
    },
    "tags": []
   },
   "outputs": [
    {
     "name": "stderr",
     "output_type": "stream",
     "text": [
      "/opt/conda/lib/python3.10/site-packages/scipy/__init__.py:146: UserWarning: A NumPy version >=1.16.5 and <1.23.0 is required for this version of SciPy (detected version 1.23.5\n",
      "  warnings.warn(f\"A NumPy version >={np_minversion} and <{np_maxversion}\"\n"
     ]
    }
   ],
   "source": [
    "import numpy as np\n",
    "import pandas as pd\n",
    "import json\n",
    "\n",
    "\n",
    "from sklearn.base import BaseEstimator\n",
    "from sklearn.impute import SimpleImputer\n",
    "import xgboost\n",
    "import lightgbm as lgb\n",
    "from sklearn.ensemble import RandomForestClassifier\n",
    "from lightgbm import LGBMClassifier\n",
    "\n",
    "from tabpfn import TabPFNClassifier\n",
    "import warnings\n",
    "warnings.filterwarnings(\"ignore\")"
   ]
  },
  {
   "cell_type": "markdown",
   "id": "7cca5ac5",
   "metadata": {
    "papermill": {
     "duration": 0.013236,
     "end_time": "2023-07-19T15:18:49.337847",
     "exception": false,
     "start_time": "2023-07-19T15:18:49.324611",
     "status": "completed"
    },
    "tags": []
   },
   "source": [
    "# loading data and performing EDA"
   ]
  },
  {
   "cell_type": "code",
   "execution_count": 5,
   "id": "422769e5",
   "metadata": {
    "execution": {
     "iopub.execute_input": "2023-07-19T15:18:49.367400Z",
     "iopub.status.busy": "2023-07-19T15:18:49.365928Z",
     "iopub.status.idle": "2023-07-19T15:18:49.417438Z",
     "shell.execute_reply": "2023-07-19T15:18:49.416093Z"
    },
    "papermill": {
     "duration": 0.068291,
     "end_time": "2023-07-19T15:18:49.419681",
     "exception": false,
     "start_time": "2023-07-19T15:18:49.351390",
     "status": "completed"
    },
    "tags": []
   },
   "outputs": [
    {
     "name": "stdout",
     "output_type": "stream",
     "text": [
      "['B' 'A']\n"
     ]
    }
   ],
   "source": [
    "# LOAD THE DATA\n",
    "\n",
    "BASE_DIR = '/kaggle/input/icr-identify-age-related-conditions'\n",
    "# Import data directly as H2O frame\n",
    "maindf = pd.read_csv(f'{BASE_DIR}/train.csv')\n",
    "greeksdf = pd.read_csv(f'{BASE_DIR}/greeks.csv')\n",
    "testdf = pd.read_csv(f'{BASE_DIR}/test.csv')\n",
    "# train_int_df\n",
    "# = pd.read_csv('/kaggle/input/icr-integer-data/train_integerized.csv')\n",
    "\n",
    "print(maindf.EJ.unique())\n",
    "first_cat = maindf.EJ.unique()[0]\n",
    "maindf.EJ = maindf.EJ.eq(first_cat).astype('int')\n",
    "testdf.EJ = testdf.EJ.eq(first_cat).astype('int')\n",
    "# train_int_df.EJ = train_int_df.EJ.eq(first_cat).astype('int')"
   ]
  },
  {
   "cell_type": "code",
   "execution_count": 6,
   "id": "1d5fab2c",
   "metadata": {
    "execution": {
     "iopub.execute_input": "2023-07-19T15:18:49.448180Z",
     "iopub.status.busy": "2023-07-19T15:18:49.447904Z",
     "iopub.status.idle": "2023-07-19T15:18:49.452015Z",
     "shell.execute_reply": "2023-07-19T15:18:49.451013Z"
    },
    "papermill": {
     "duration": 0.020905,
     "end_time": "2023-07-19T15:18:49.454432",
     "exception": false,
     "start_time": "2023-07-19T15:18:49.433527",
     "status": "completed"
    },
    "tags": []
   },
   "outputs": [],
   "source": [
    "# train_int_df"
   ]
  },
  {
   "cell_type": "code",
   "execution_count": 7,
   "id": "e27afc67",
   "metadata": {
    "execution": {
     "iopub.execute_input": "2023-07-19T15:18:49.482755Z",
     "iopub.status.busy": "2023-07-19T15:18:49.482428Z",
     "iopub.status.idle": "2023-07-19T15:18:49.486417Z",
     "shell.execute_reply": "2023-07-19T15:18:49.485406Z"
    },
    "papermill": {
     "duration": 0.020691,
     "end_time": "2023-07-19T15:18:49.488725",
     "exception": false,
     "start_time": "2023-07-19T15:18:49.468034",
     "status": "completed"
    },
    "tags": []
   },
   "outputs": [],
   "source": [
    "# maindf.describe()"
   ]
  },
  {
   "cell_type": "code",
   "execution_count": 8,
   "id": "8121f187",
   "metadata": {
    "execution": {
     "iopub.execute_input": "2023-07-19T15:18:49.517562Z",
     "iopub.status.busy": "2023-07-19T15:18:49.517274Z",
     "iopub.status.idle": "2023-07-19T15:18:49.521121Z",
     "shell.execute_reply": "2023-07-19T15:18:49.520238Z"
    },
    "papermill": {
     "duration": 0.020678,
     "end_time": "2023-07-19T15:18:49.523309",
     "exception": false,
     "start_time": "2023-07-19T15:18:49.502631",
     "status": "completed"
    },
    "tags": []
   },
   "outputs": [],
   "source": [
    "# train_int_df.describe() "
   ]
  },
  {
   "cell_type": "code",
   "execution_count": 9,
   "id": "a3262fe1",
   "metadata": {
    "execution": {
     "iopub.execute_input": "2023-07-19T15:18:49.551776Z",
     "iopub.status.busy": "2023-07-19T15:18:49.551506Z",
     "iopub.status.idle": "2023-07-19T15:18:49.571794Z",
     "shell.execute_reply": "2023-07-19T15:18:49.570934Z"
    },
    "papermill": {
     "duration": 0.037016,
     "end_time": "2023-07-19T15:18:49.574029",
     "exception": false,
     "start_time": "2023-07-19T15:18:49.537013",
     "status": "completed"
    },
    "tags": []
   },
   "outputs": [],
   "source": [
    "# Greeks contains time information that we can use, we just need to parse it to int / nan.\n",
    "\n",
    "from datetime import date, datetime\n",
    "times = greeksdf.Epsilon.copy()\n",
    "times[greeksdf.Epsilon != 'Unknown'] = greeksdf.Epsilon[greeksdf.Epsilon != 'Unknown'].map(lambda x: datetime.strptime(x,'%m/%d/%Y').toordinal())\n",
    "times[greeksdf.Epsilon == 'Unknown'] = np.nan"
   ]
  },
  {
   "cell_type": "code",
   "execution_count": 10,
   "id": "e9157505",
   "metadata": {
    "execution": {
     "iopub.execute_input": "2023-07-19T15:18:49.603061Z",
     "iopub.status.busy": "2023-07-19T15:18:49.602201Z",
     "iopub.status.idle": "2023-07-19T15:18:49.608682Z",
     "shell.execute_reply": "2023-07-19T15:18:49.607861Z"
    },
    "papermill": {
     "duration": 0.022909,
     "end_time": "2023-07-19T15:18:49.610593",
     "exception": false,
     "start_time": "2023-07-19T15:18:49.587684",
     "status": "completed"
    },
    "tags": []
   },
   "outputs": [],
   "source": [
    "# opt_params = {'subsample': 0.7,\n",
    "#  'n_estimators': 500,\n",
    "#  'max_depth': 6,\n",
    "#  'learning_rate': 0.1,\n",
    "#  'colsample_bytree': 0.8999999999999999,\n",
    "#  'colsample_bylevel': 0.7,\n",
    "#  'scale_pos_weight': 10}\n",
    "\n",
    "xgb_params = {'n_estimators': 2000, \n",
    "              'max_depth': 5, \n",
    "              'colsample_bytree': 0.6, \n",
    "              'learning_rate': 0.0062890265092732465, \n",
    "              'reg_lambda': 2}\n",
    "rf_params = {'n_estimators': 100, 'max_depth': 4, 'max_features': 0.8}\n",
    "lgb_params =  {'boosting_type':'goss', 'learning_rate':0.06733232950390658, \n",
    "               'n_estimators': 50000, \n",
    "#                 'early_stopping_round':300, \n",
    "               'random_state':42,\n",
    "                'subsample':0.6970532011679706,\n",
    "                'colsample_bytree':0.6055755840633003,\n",
    "#                 'class_weight':balanced',\n",
    "#                 'metric':'none', \n",
    "#                is_unbalance=True, \n",
    "               'max_depth':8}"
   ]
  },
  {
   "cell_type": "code",
   "execution_count": 11,
   "id": "030c7615",
   "metadata": {
    "execution": {
     "iopub.execute_input": "2023-07-19T15:18:49.641320Z",
     "iopub.status.busy": "2023-07-19T15:18:49.639708Z",
     "iopub.status.idle": "2023-07-19T15:18:49.652586Z",
     "shell.execute_reply": "2023-07-19T15:18:49.651592Z"
    },
    "papermill": {
     "duration": 0.030426,
     "end_time": "2023-07-19T15:18:49.654800",
     "exception": false,
     "start_time": "2023-07-19T15:18:49.624374",
     "status": "completed"
    },
    "tags": []
   },
   "outputs": [],
   "source": [
    "class WeightedEns(BaseEstimator):\n",
    "    def __init__(self):\n",
    "        self.classifiers = [xgboost.XGBClassifier(**xgb_params), LGBMClassifier(**lgb_params), TabPFNClassifier(N_ensemble_configurations=64,device='cuda:0')]\n",
    "#         self.classifiers = [xgboost.XGBClassifier(**opt_params)]\n",
    "        self.imp = SimpleImputer(missing_values=np.nan, strategy='median')\n",
    "    \n",
    "#     def fit(self, X, y):\n",
    "#         cls, y = np.unique(y, return_inverse=True)\n",
    "#         self.classes_ = cls\n",
    "#         X = self.imp.fit_transform(X)\n",
    "#         for cl in self.classifiers:\n",
    "#             cl.fit(X,y)\n",
    "\n",
    "    def fit(self, X, y):\n",
    "        cls, y = np.unique(y, return_inverse=True)\n",
    "        self.classes_ = cls\n",
    "        X = self.imp.fit_transform(X)\n",
    "\n",
    "        trained_classifiers = []\n",
    "        for cl in self.classifiers:\n",
    "            cl.fit(X, y)\n",
    "            trained_classifiers.append(cl)\n",
    "\n",
    "        return trained_classifiers\n",
    "    \n",
    "    def predict_proba(self, X):\n",
    "        X = self.imp.transform(X)\n",
    "        ps = np.stack([cl.predict_proba(X) for cl in self.classifiers])\n",
    "        p = np.mean(ps,axis=0)\n",
    "        class_0_est_instances = p[:,0].sum()\n",
    "        others_est_instances = p[:,1:].sum()\n",
    "        # we reweight the probs, since the loss is also balanced like this\n",
    "        # our models out of the box optimize CE\n",
    "        # with these changes they optimize balanced CE\n",
    "        new_p = p * np.array([[1/(class_0_est_instances if i==0 else others_est_instances) for i in range(p.shape[1])]])\n",
    "        return new_p / np.sum(new_p,axis=1,keepdims=1)"
   ]
  },
  {
   "cell_type": "markdown",
   "id": "826e193b",
   "metadata": {
    "papermill": {
     "duration": 0.013584,
     "end_time": "2023-07-19T15:18:49.682232",
     "exception": false,
     "start_time": "2023-07-19T15:18:49.668648",
     "status": "completed"
    },
    "tags": []
   },
   "source": [
    "# Feature Engineering"
   ]
  },
  {
   "cell_type": "code",
   "execution_count": 12,
   "id": "de14eb69",
   "metadata": {
    "execution": {
     "iopub.execute_input": "2023-07-19T15:18:49.711408Z",
     "iopub.status.busy": "2023-07-19T15:18:49.710584Z",
     "iopub.status.idle": "2023-07-19T15:18:49.714942Z",
     "shell.execute_reply": "2023-07-19T15:18:49.714069Z"
    },
    "papermill": {
     "duration": 0.020829,
     "end_time": "2023-07-19T15:18:49.716852",
     "exception": false,
     "start_time": "2023-07-19T15:18:49.696023",
     "status": "completed"
    },
    "tags": []
   },
   "outputs": [],
   "source": [
    "# maindf['GL'] = 0.05/(maindf['GL']+0.05)\n",
    "# testdf['GL'] = 0.05/(testdf['GL']+0.05)\n"
   ]
  },
  {
   "cell_type": "code",
   "execution_count": 13,
   "id": "439962c8",
   "metadata": {
    "execution": {
     "iopub.execute_input": "2023-07-19T15:18:49.745320Z",
     "iopub.status.busy": "2023-07-19T15:18:49.745051Z",
     "iopub.status.idle": "2023-07-19T15:18:49.749517Z",
     "shell.execute_reply": "2023-07-19T15:18:49.748577Z"
    },
    "papermill": {
     "duration": 0.021008,
     "end_time": "2023-07-19T15:18:49.751552",
     "exception": false,
     "start_time": "2023-07-19T15:18:49.730544",
     "status": "completed"
    },
    "tags": []
   },
   "outputs": [],
   "source": [
    "# Set predictor and target columns\n",
    "target = 'Class'\n",
    "predictors = [n for n in maindf.columns if n != target and n not in [\"Id\"] ] # remove target and unnecessary features"
   ]
  },
  {
   "cell_type": "code",
   "execution_count": 14,
   "id": "45d38ceb",
   "metadata": {
    "execution": {
     "iopub.execute_input": "2023-07-19T15:18:49.779899Z",
     "iopub.status.busy": "2023-07-19T15:18:49.779636Z",
     "iopub.status.idle": "2023-07-19T15:18:49.787295Z",
     "shell.execute_reply": "2023-07-19T15:18:49.786372Z"
    },
    "papermill": {
     "duration": 0.024242,
     "end_time": "2023-07-19T15:18:49.789427",
     "exception": false,
     "start_time": "2023-07-19T15:18:49.765185",
     "status": "completed"
    },
    "tags": []
   },
   "outputs": [],
   "source": [
    "pred_and_time = pd.concat((maindf[predictors], times), 1)"
   ]
  },
  {
   "cell_type": "code",
   "execution_count": 15,
   "id": "e7fdf4f0",
   "metadata": {
    "execution": {
     "iopub.execute_input": "2023-07-19T15:18:49.819256Z",
     "iopub.status.busy": "2023-07-19T15:18:49.818438Z",
     "iopub.status.idle": "2023-07-19T15:18:49.825262Z",
     "shell.execute_reply": "2023-07-19T15:18:49.824400Z"
    },
    "papermill": {
     "duration": 0.023169,
     "end_time": "2023-07-19T15:18:49.827215",
     "exception": false,
     "start_time": "2023-07-19T15:18:49.804046",
     "status": "completed"
    },
    "tags": []
   },
   "outputs": [],
   "source": [
    "test_predictors = np.array(testdf[predictors])\n",
    "test_pred_and_time = np.concatenate((test_predictors, np.zeros((len(test_predictors),1)) + pred_and_time.Epsilon.max()+1),1)"
   ]
  },
  {
   "cell_type": "markdown",
   "id": "083698b2",
   "metadata": {
    "papermill": {
     "duration": 0.013553,
     "end_time": "2023-07-19T15:18:49.854436",
     "exception": false,
     "start_time": "2023-07-19T15:18:49.840883",
     "status": "completed"
    },
    "tags": []
   },
   "source": [
    "# Validation"
   ]
  },
  {
   "cell_type": "code",
   "execution_count": 16,
   "id": "85527027",
   "metadata": {
    "execution": {
     "iopub.execute_input": "2023-07-19T15:18:49.883192Z",
     "iopub.status.busy": "2023-07-19T15:18:49.882324Z",
     "iopub.status.idle": "2023-07-19T15:18:49.908928Z",
     "shell.execute_reply": "2023-07-19T15:18:49.908087Z"
    },
    "papermill": {
     "duration": 0.04296,
     "end_time": "2023-07-19T15:18:49.910890",
     "exception": false,
     "start_time": "2023-07-19T15:18:49.867930",
     "status": "completed"
    },
    "tags": []
   },
   "outputs": [],
   "source": [
    "import sys\n",
    "sys.path.append('/kaggle/input/iterativestratification')\n",
    "from scipy import stats\n",
    "from sklearn.metrics import log_loss,accuracy_score\n",
    "from sklearn.model_selection import GridSearchCV, train_test_split ,ParameterGrid ,ParameterSampler,learning_curve,LearningCurveDisplay ,StratifiedKFold\n",
    "from iterstrat.ml_stratifiers import MultilabelStratifiedKFold"
   ]
  },
  {
   "cell_type": "code",
   "execution_count": 17,
   "id": "4f76d3d9",
   "metadata": {
    "execution": {
     "iopub.execute_input": "2023-07-19T15:18:49.939753Z",
     "iopub.status.busy": "2023-07-19T15:18:49.938998Z",
     "iopub.status.idle": "2023-07-19T15:18:49.943125Z",
     "shell.execute_reply": "2023-07-19T15:18:49.942163Z"
    },
    "papermill": {
     "duration": 0.020751,
     "end_time": "2023-07-19T15:18:49.945444",
     "exception": false,
     "start_time": "2023-07-19T15:18:49.924693",
     "status": "completed"
    },
    "tags": []
   },
   "outputs": [],
   "source": [
    "# import sklearn\n",
    "# sklearn.metrics.get_scorer_names()"
   ]
  },
  {
   "cell_type": "code",
   "execution_count": 18,
   "id": "7c73c524",
   "metadata": {
    "execution": {
     "iopub.execute_input": "2023-07-19T15:18:49.976783Z",
     "iopub.status.busy": "2023-07-19T15:18:49.976520Z",
     "iopub.status.idle": "2023-07-19T15:19:54.383931Z",
     "shell.execute_reply": "2023-07-19T15:19:54.382864Z"
    },
    "papermill": {
     "duration": 64.440685,
     "end_time": "2023-07-19T15:19:54.400226",
     "exception": false,
     "start_time": "2023-07-19T15:18:49.959541",
     "status": "completed"
    },
    "tags": []
   },
   "outputs": [
    {
     "name": "stdout",
     "output_type": "stream",
     "text": [
      "Loading model that can be used for inference only\n",
      "Using a Transformer with 25.82 M parameters\n",
      "CV :  0.18536699085220765\n"
     ]
    }
   ],
   "source": [
    "m = WeightedEns()\n",
    "# m = xgboost.XGBClassifier(enable_categorical = True)\n",
    "oof = np.zeros((len(maindf), 2))\n",
    "\n",
    "skf = MultilabelStratifiedKFold(n_splits=5, shuffle=True, random_state=42)\n",
    "\n",
    "final_preds = []\n",
    "\n",
    "df = pd.concat((maindf, times), 1)\n",
    "\n",
    "for train_index,val_index in skf.split(df, greeksdf.iloc[:,1:-1]):\n",
    "    X_train, X_val = df.loc[train_index, predictors + ['Epsilon'] ], df.loc[val_index, predictors + ['Epsilon'] ]\n",
    "    y_train, y_val = df.loc[train_index, 'Class'], df.loc[val_index, 'Class']\n",
    "    \n",
    "    m.fit(X_train,y_train)\n",
    "    preds = m.predict_proba(X_val)\n",
    "    \n",
    "    oof[val_index, :] = preds\n",
    "print(\"CV : \" ,balanced_log_loss(maindf['Class'], oof))"
   ]
  },
  {
   "cell_type": "code",
   "execution_count": 19,
   "id": "01612057",
   "metadata": {
    "execution": {
     "iopub.execute_input": "2023-07-19T15:19:54.430015Z",
     "iopub.status.busy": "2023-07-19T15:19:54.429701Z",
     "iopub.status.idle": "2023-07-19T15:19:54.446126Z",
     "shell.execute_reply": "2023-07-19T15:19:54.445021Z"
    },
    "papermill": {
     "duration": 0.034119,
     "end_time": "2023-07-19T15:19:54.448419",
     "exception": false,
     "start_time": "2023-07-19T15:19:54.414300",
     "status": "completed"
    },
    "tags": []
   },
   "outputs": [
    {
     "name": "stdout",
     "output_type": "stream",
     "text": [
      "balanced log loss v2 :  0.18536699085220767\n",
      "log loss :  0.1674015004728141\n",
      "accuracy:  0.9432739059967585\n"
     ]
    }
   ],
   "source": [
    "#Sanity Check\n",
    "def balance_loglossv2(y_true, y_pred):\n",
    "    target_mean = y_true.mean()\n",
    "    w0 = 1/(1-target_mean)\n",
    "    w1 = 1/target_mean\n",
    "    sample_weight = [w0 if y == 0 else w1 for y in y_true]\n",
    "    loss = log_loss(y_true, y_pred, sample_weight=sample_weight)\n",
    "    \n",
    "    return loss\n",
    "\n",
    "print('balanced log loss v2 : ',balance_loglossv2(maindf['Class'], oof))  \n",
    "print('log loss : ', log_loss(maindf['Class'], oof))\n",
    "print('accuracy: ', accuracy_score(maindf['Class'], np.round(oof[:, 1])))"
   ]
  },
  {
   "cell_type": "markdown",
   "id": "48c925e6",
   "metadata": {
    "papermill": {
     "duration": 0.014007,
     "end_time": "2023-07-19T15:19:54.477442",
     "exception": false,
     "start_time": "2023-07-19T15:19:54.463435",
     "status": "completed"
    },
    "tags": []
   },
   "source": [
    "**Now let's check what happens when we apply the threshold :**"
   ]
  },
  {
   "cell_type": "code",
   "execution_count": 20,
   "id": "556d87ad",
   "metadata": {
    "execution": {
     "iopub.execute_input": "2023-07-19T15:19:54.508315Z",
     "iopub.status.busy": "2023-07-19T15:19:54.506784Z",
     "iopub.status.idle": "2023-07-19T15:20:53.127804Z",
     "shell.execute_reply": "2023-07-19T15:20:53.126677Z"
    },
    "jupyter": {
     "source_hidden": true
    },
    "papermill": {
     "duration": 58.655563,
     "end_time": "2023-07-19T15:20:53.147144",
     "exception": false,
     "start_time": "2023-07-19T15:19:54.491581",
     "status": "completed"
    },
    "tags": []
   },
   "outputs": [
    {
     "name": "stdout",
     "output_type": "stream",
     "text": [
      "Loading model that can be used for inference only\n",
      "Using a Transformer with 25.82 M parameters\n"
     ]
    },
    {
     "name": "stderr",
     "output_type": "stream",
     "text": [
      "/tmp/ipykernel_24/611376446.py:9: FutureWarning: In a future version of pandas all arguments of concat except for the argument 'objs' will be keyword-only.\n",
      "  df = pd.concat((maindf, times), 1)\n"
     ]
    },
    {
     "name": "stdout",
     "output_type": "stream",
     "text": [
      "CV :  0.6570457733002351\n"
     ]
    }
   ],
   "source": [
    "m = WeightedEns()\n",
    "\n",
    "oof = np.zeros((len(maindf), 2))\n",
    "\n",
    "skf = MultilabelStratifiedKFold(n_splits=5, shuffle=True, random_state=42)\n",
    "\n",
    "final_preds = []\n",
    "\n",
    "df = pd.concat((maindf, times), 1)\n",
    "\n",
    "for train_index,val_index in skf.split(df, greeksdf.iloc[:,1:-1]):\n",
    "\n",
    "    X_train, X_val = df.loc[train_index, predictors + ['Epsilon'] ], df.loc[val_index, predictors + ['Epsilon'] ]\n",
    "    y_train, y_val = df.loc[train_index, 'Class'], df.loc[val_index, 'Class']\n",
    "\n",
    "    m.fit(X_train,y_train)\n",
    "    preds = m.predict_proba(X_val)\n",
    "\n",
    "    preds[:,:1][preds[:,:1] > 0.84] = 1\n",
    "    preds[:,:1][preds[:,:1] < 0.14] = 0\n",
    "\n",
    "    preds[:,1:][preds[:,1:] > 0.84] = 1\n",
    "    preds[:,1:][preds[:,1:] < 0.14] = 0\n",
    "\n",
    "\n",
    "    oof[val_index, :] = preds\n",
    "print(\"CV : \" ,balanced_log_loss(maindf['Class'], oof))\n"
   ]
  },
  {
   "cell_type": "code",
   "execution_count": 21,
   "id": "c1f76f02",
   "metadata": {
    "execution": {
     "iopub.execute_input": "2023-07-19T15:20:53.183036Z",
     "iopub.status.busy": "2023-07-19T15:20:53.182260Z",
     "iopub.status.idle": "2023-07-19T15:20:53.197947Z",
     "shell.execute_reply": "2023-07-19T15:20:53.196429Z"
    },
    "jupyter": {
     "source_hidden": true
    },
    "papermill": {
     "duration": 0.036102,
     "end_time": "2023-07-19T15:20:53.200529",
     "exception": false,
     "start_time": "2023-07-19T15:20:53.164427",
     "status": "completed"
    },
    "tags": []
   },
   "outputs": [
    {
     "name": "stdout",
     "output_type": "stream",
     "text": [
      "balanced log loss v2 :  0.6866442300272749\n",
      "log loss :  0.6247532228042714\n",
      "accuracy:  0.9432739059967585\n"
     ]
    }
   ],
   "source": [
    "#Sanity Check\n",
    "def balance_loglossv2(y_true, y_pred):\n",
    "    target_mean = y_true.mean()\n",
    "    w0 = 1/(1-target_mean)\n",
    "    w1 = 1/target_mean\n",
    "    sample_weight = [w0 if y == 0 else w1 for y in y_true]\n",
    "    loss = log_loss(y_true, y_pred, sample_weight=sample_weight)\n",
    "    \n",
    "    return loss\n",
    "\n",
    "print('balanced log loss v2 : ',balance_loglossv2(maindf['Class'], oof))  \n",
    "print('log loss : ', log_loss(maindf['Class'], oof))\n",
    "print('accuracy: ', accuracy_score(maindf['Class'], np.round(oof[:, 1])))"
   ]
  },
  {
   "cell_type": "markdown",
   "id": "37297d6e",
   "metadata": {
    "papermill": {
     "duration": 0.016448,
     "end_time": "2023-07-19T15:20:53.235262",
     "exception": false,
     "start_time": "2023-07-19T15:20:53.218814",
     "status": "completed"
    },
    "tags": []
   },
   "source": [
    "**Notice how badly the log loss is affected by applying the threshold , we can hence deduce that this postprocessing is a very risky approach and might not generalize well to the private LB , please refer to this discussion for more info :**  https://www.kaggle.com/competitions/icr-identify-age-related-conditions/discussion/414209"
   ]
  },
  {
   "cell_type": "markdown",
   "id": "529d1047",
   "metadata": {
    "papermill": {
     "duration": 0.016416,
     "end_time": "2023-07-19T15:20:53.268340",
     "exception": false,
     "start_time": "2023-07-19T15:20:53.251924",
     "status": "completed"
    },
    "tags": []
   },
   "source": [
    "# Hyperparmeter Tuning"
   ]
  },
  {
   "cell_type": "code",
   "execution_count": 22,
   "id": "8a91ec6a",
   "metadata": {
    "execution": {
     "iopub.execute_input": "2023-07-19T15:20:53.303714Z",
     "iopub.status.busy": "2023-07-19T15:20:53.302447Z",
     "iopub.status.idle": "2023-07-19T15:20:53.307509Z",
     "shell.execute_reply": "2023-07-19T15:20:53.306530Z"
    },
    "papermill": {
     "duration": 0.02439,
     "end_time": "2023-07-19T15:20:53.309484",
     "exception": false,
     "start_time": "2023-07-19T15:20:53.285094",
     "status": "completed"
    },
    "tags": []
   },
   "outputs": [],
   "source": [
    "# from sklearn.model_selection import RandomizedSearchCV, GridSearchCV, StratifiedKFold\n",
    "# from sklearn.multioutput import MultiOutputClassifier"
   ]
  },
  {
   "cell_type": "code",
   "execution_count": 23,
   "id": "166d97a0",
   "metadata": {
    "execution": {
     "iopub.execute_input": "2023-07-19T15:20:53.340172Z",
     "iopub.status.busy": "2023-07-19T15:20:53.339319Z",
     "iopub.status.idle": "2023-07-19T15:20:53.343968Z",
     "shell.execute_reply": "2023-07-19T15:20:53.343055Z"
    },
    "papermill": {
     "duration": 0.021741,
     "end_time": "2023-07-19T15:20:53.345872",
     "exception": false,
     "start_time": "2023-07-19T15:20:53.324131",
     "status": "completed"
    },
    "tags": []
   },
   "outputs": [],
   "source": [
    "# # instantiate labelencoder object\n",
    "# from sklearn.preprocessing import LabelEncoder\n",
    "# categorical_cols=['Alpha','Beta','Gamma','Delta']\n",
    "# le = LabelEncoder()\n",
    "# le_df = greeksdf.iloc[:,1:-1]\n",
    "# # apply le on categorical feature columns\n",
    "# le_df[categorical_cols] = le_df[categorical_cols].apply(lambda col: le.fit_transform(col))"
   ]
  },
  {
   "cell_type": "code",
   "execution_count": 24,
   "id": "3b770c40",
   "metadata": {
    "execution": {
     "iopub.execute_input": "2023-07-19T15:20:53.377281Z",
     "iopub.status.busy": "2023-07-19T15:20:53.376472Z",
     "iopub.status.idle": "2023-07-19T15:20:53.409126Z",
     "shell.execute_reply": "2023-07-19T15:20:53.408013Z"
    },
    "papermill": {
     "duration": 0.050995,
     "end_time": "2023-07-19T15:20:53.411255",
     "exception": false,
     "start_time": "2023-07-19T15:20:53.360260",
     "status": "completed"
    },
    "tags": []
   },
   "outputs": [
    {
     "name": "stderr",
     "output_type": "stream",
     "text": [
      "/tmp/ipykernel_24/1009028661.py:1: FutureWarning: In a future version of pandas all arguments of concat except for the argument 'objs' will be keyword-only.\n",
      "  df = pd.concat((maindf, times), 1)\n",
      "/tmp/ipykernel_24/1009028661.py:3: FutureWarning: The default value of numeric_only in DataFrame.median is deprecated. In a future version, it will default to False. In addition, specifying 'numeric_only=None' is deprecated. Select only valid columns or specify the value of numeric_only to silence this warning.\n",
      "  df = df.fillna(df.median())\n"
     ]
    }
   ],
   "source": [
    "df = pd.concat((maindf, times), 1)\n",
    "# df = SimpleImputer(missing_values=np.nan, strategy='median').fit_transform(df)\n",
    "df = df.fillna(df.median())"
   ]
  },
  {
   "cell_type": "code",
   "execution_count": 25,
   "id": "e394a15e",
   "metadata": {
    "execution": {
     "iopub.execute_input": "2023-07-19T15:20:53.441777Z",
     "iopub.status.busy": "2023-07-19T15:20:53.441519Z",
     "iopub.status.idle": "2023-07-19T15:20:53.448505Z",
     "shell.execute_reply": "2023-07-19T15:20:53.447346Z"
    },
    "papermill": {
     "duration": 0.024218,
     "end_time": "2023-07-19T15:20:53.450426",
     "exception": false,
     "start_time": "2023-07-19T15:20:53.426208",
     "status": "completed"
    },
    "tags": []
   },
   "outputs": [],
   "source": [
    "X = df.loc[:, predictors + ['Epsilon'] ]\n",
    "y = df.loc[:,'Class']"
   ]
  },
  {
   "cell_type": "code",
   "execution_count": 26,
   "id": "82e4a58d",
   "metadata": {
    "execution": {
     "iopub.execute_input": "2023-07-19T15:20:53.480772Z",
     "iopub.status.busy": "2023-07-19T15:20:53.480273Z",
     "iopub.status.idle": "2023-07-19T15:20:53.484108Z",
     "shell.execute_reply": "2023-07-19T15:20:53.483149Z"
    },
    "papermill": {
     "duration": 0.021057,
     "end_time": "2023-07-19T15:20:53.486115",
     "exception": false,
     "start_time": "2023-07-19T15:20:53.465058",
     "status": "completed"
    },
    "tags": []
   },
   "outputs": [],
   "source": [
    "# X.shape, y.shape"
   ]
  },
  {
   "cell_type": "code",
   "execution_count": 27,
   "id": "e83f1b25",
   "metadata": {
    "execution": {
     "iopub.execute_input": "2023-07-19T15:20:53.516756Z",
     "iopub.status.busy": "2023-07-19T15:20:53.516022Z",
     "iopub.status.idle": "2023-07-19T15:20:53.520788Z",
     "shell.execute_reply": "2023-07-19T15:20:53.519930Z"
    },
    "papermill": {
     "duration": 0.02232,
     "end_time": "2023-07-19T15:20:53.522879",
     "exception": false,
     "start_time": "2023-07-19T15:20:53.500559",
     "status": "completed"
    },
    "tags": []
   },
   "outputs": [],
   "source": [
    "# # Perform hyperparameter tuning using GridSearchCV\n",
    "# from sklearn.metrics import make_scorer\n",
    "# print('Performing hyperparameter tuning using GridSearchCV...')\n",
    "# params = {'max_depth': [3, 6, 10, 15],\n",
    "#           'learning_rate': [0.01, 0.1, 0.2, 0.3, 0.4],\n",
    "#           'subsample': np.arange(0.5, 1.0, 0.1),\n",
    "#           'colsample_bytree': np.arange(0.5, 1.0, 0.1),\n",
    "#           'colsample_bylevel': np.arange(0.5, 1.0, 0.1),\n",
    "#           'n_estimators': [100, 250, 500, 750],\n",
    "#           }\n",
    "\n",
    "# _cv = StratifiedKFold(n_splits=5, shuffle = True,random_state=42)\n",
    "\n",
    "# xgb_model = xgboost.XGBClassifier(random_state=42)\n",
    "# grid_search = RandomizedSearchCV(estimator=xgb_model, param_distributions=params, scoring='roc_auc', n_jobs=-1, cv=_cv, error_score= 'raise')\n",
    "# # grid_search.fit(X,y)\n",
    "# # scoring=make_scorer(balanced_log_loss,greater_is_better= False)"
   ]
  },
  {
   "cell_type": "code",
   "execution_count": 28,
   "id": "956483b2",
   "metadata": {
    "execution": {
     "iopub.execute_input": "2023-07-19T15:20:53.557223Z",
     "iopub.status.busy": "2023-07-19T15:20:53.556954Z",
     "iopub.status.idle": "2023-07-19T15:20:53.560845Z",
     "shell.execute_reply": "2023-07-19T15:20:53.559902Z"
    },
    "papermill": {
     "duration": 0.02532,
     "end_time": "2023-07-19T15:20:53.562857",
     "exception": false,
     "start_time": "2023-07-19T15:20:53.537537",
     "status": "completed"
    },
    "tags": []
   },
   "outputs": [],
   "source": [
    "# grid_search.fit(X,y)"
   ]
  },
  {
   "cell_type": "code",
   "execution_count": 29,
   "id": "e7f5d473",
   "metadata": {
    "execution": {
     "iopub.execute_input": "2023-07-19T15:20:53.593829Z",
     "iopub.status.busy": "2023-07-19T15:20:53.592928Z",
     "iopub.status.idle": "2023-07-19T15:20:53.597120Z",
     "shell.execute_reply": "2023-07-19T15:20:53.596261Z"
    },
    "papermill": {
     "duration": 0.021647,
     "end_time": "2023-07-19T15:20:53.599094",
     "exception": false,
     "start_time": "2023-07-19T15:20:53.577447",
     "status": "completed"
    },
    "tags": []
   },
   "outputs": [],
   "source": [
    "# best_params = grid_search.best_params_"
   ]
  },
  {
   "cell_type": "code",
   "execution_count": 30,
   "id": "10a9d1a7",
   "metadata": {
    "execution": {
     "iopub.execute_input": "2023-07-19T15:20:53.630624Z",
     "iopub.status.busy": "2023-07-19T15:20:53.629834Z",
     "iopub.status.idle": "2023-07-19T15:20:53.634009Z",
     "shell.execute_reply": "2023-07-19T15:20:53.633080Z"
    },
    "papermill": {
     "duration": 0.022061,
     "end_time": "2023-07-19T15:20:53.635908",
     "exception": false,
     "start_time": "2023-07-19T15:20:53.613847",
     "status": "completed"
    },
    "tags": []
   },
   "outputs": [],
   "source": [
    "# best_params"
   ]
  },
  {
   "cell_type": "code",
   "execution_count": 31,
   "id": "51c5f56e",
   "metadata": {
    "execution": {
     "iopub.execute_input": "2023-07-19T15:20:53.667741Z",
     "iopub.status.busy": "2023-07-19T15:20:53.667021Z",
     "iopub.status.idle": "2023-07-19T15:20:53.671713Z",
     "shell.execute_reply": "2023-07-19T15:20:53.670825Z"
    },
    "papermill": {
     "duration": 0.022843,
     "end_time": "2023-07-19T15:20:53.673827",
     "exception": false,
     "start_time": "2023-07-19T15:20:53.650984",
     "status": "completed"
    },
    "tags": []
   },
   "outputs": [],
   "source": [
    "# best_params = {'subsample': 0.7999999999999999,\n",
    "#  'n_estimators': 250,\n",
    "#  'max_depth': 6,\n",
    "#  'learning_rate': 0.1,\n",
    "#  'colsample_bytree': 0.7,\n",
    "#  'colsample_bylevel': 0.7}\n",
    "\n",
    "\n",
    "# xgb_cw = xgboost.XGBClassifier(**best_params)\n",
    "\n",
    "# # define grid\n",
    "# weights = [1, 10, 25, 50, 75, 99, 100, 1000]\n",
    "# param_grid = dict(scale_pos_weight=weights)\n",
    "# # define evaluation procedure\n",
    "# _cv = StratifiedKFold(n_splits=5, shuffle = True,random_state=42)\n",
    "# # define grid search\n",
    "# grid = GridSearchCV(estimator=xgb_cw, param_grid=param_grid, n_jobs=-1, cv=_cv, scoring='roc_auc')\n",
    "# # execute the grid search\n",
    "# grid_result = grid.fit(X, y)\n",
    "# # report the best configuration\n",
    "# print(\"Best: %f using %s\" % (grid_result.best_score_, grid_result.best_params_))\n",
    "# # report all configurations\n",
    "# means = grid_result.cv_results_['mean_test_score']\n",
    "# stds = grid_result.cv_results_['std_test_score']\n",
    "# params = grid_result.cv_results_['params']\n",
    "# for mean, stdev, param in zip(means, stds, params):\n",
    "#     print(\"%f (%f) with: %r\" % (mean, stdev, param))"
   ]
  },
  {
   "cell_type": "code",
   "execution_count": 32,
   "id": "6ade5dc7",
   "metadata": {
    "execution": {
     "iopub.execute_input": "2023-07-19T15:20:53.705605Z",
     "iopub.status.busy": "2023-07-19T15:20:53.704818Z",
     "iopub.status.idle": "2023-07-19T15:20:53.708873Z",
     "shell.execute_reply": "2023-07-19T15:20:53.708034Z"
    },
    "papermill": {
     "duration": 0.022321,
     "end_time": "2023-07-19T15:20:53.710806",
     "exception": false,
     "start_time": "2023-07-19T15:20:53.688485",
     "status": "completed"
    },
    "tags": []
   },
   "outputs": [],
   "source": [
    "# grid_search.best_score_"
   ]
  },
  {
   "cell_type": "code",
   "execution_count": 33,
   "id": "0840c68a",
   "metadata": {
    "execution": {
     "iopub.execute_input": "2023-07-19T15:20:53.742469Z",
     "iopub.status.busy": "2023-07-19T15:20:53.741654Z",
     "iopub.status.idle": "2023-07-19T15:20:53.746286Z",
     "shell.execute_reply": "2023-07-19T15:20:53.745492Z"
    },
    "papermill": {
     "duration": 0.022463,
     "end_time": "2023-07-19T15:20:53.748186",
     "exception": false,
     "start_time": "2023-07-19T15:20:53.725723",
     "status": "completed"
    },
    "tags": []
   },
   "outputs": [],
   "source": [
    "# from skleabest_score_rn.metrics import make_scorer\n",
    "\n",
    "# skf = StratifiedKFold(n_splits=5, shuffle=True, random_state=42)\n",
    "\n",
    "# random_search = RandomizedSearchCV(xgb, param_distributions=params, scoring=make_scorer(balanced_log_loss,greater_is_better= False) , n_jobs=-1, cv=5, verbose=0, random_state=42)\n",
    "# random_search.fit(df.loc[:, predictors + ['Epsilon'] ], df.loc[:,'Class'])"
   ]
  },
  {
   "cell_type": "code",
   "execution_count": 34,
   "id": "17516fc9",
   "metadata": {
    "execution": {
     "iopub.execute_input": "2023-07-19T15:20:53.780004Z",
     "iopub.status.busy": "2023-07-19T15:20:53.779029Z",
     "iopub.status.idle": "2023-07-19T15:20:53.783713Z",
     "shell.execute_reply": "2023-07-19T15:20:53.782749Z"
    },
    "papermill": {
     "duration": 0.022495,
     "end_time": "2023-07-19T15:20:53.785685",
     "exception": false,
     "start_time": "2023-07-19T15:20:53.763190",
     "status": "completed"
    },
    "tags": []
   },
   "outputs": [],
   "source": [
    "# random_search.fit(df.loc[:, predictors + ['Epsilon'] ], df.loc[:,'Class'])"
   ]
  },
  {
   "cell_type": "code",
   "execution_count": 35,
   "id": "6ce006a5",
   "metadata": {
    "execution": {
     "iopub.execute_input": "2023-07-19T15:20:53.817471Z",
     "iopub.status.busy": "2023-07-19T15:20:53.816664Z",
     "iopub.status.idle": "2023-07-19T15:20:53.820710Z",
     "shell.execute_reply": "2023-07-19T15:20:53.819894Z"
    },
    "papermill": {
     "duration": 0.021919,
     "end_time": "2023-07-19T15:20:53.822618",
     "exception": false,
     "start_time": "2023-07-19T15:20:53.800699",
     "status": "completed"
    },
    "tags": []
   },
   "outputs": [],
   "source": [
    "# random_search.best_params_"
   ]
  },
  {
   "cell_type": "code",
   "execution_count": 36,
   "id": "906e943c",
   "metadata": {
    "execution": {
     "iopub.execute_input": "2023-07-19T15:20:53.854387Z",
     "iopub.status.busy": "2023-07-19T15:20:53.853598Z",
     "iopub.status.idle": "2023-07-19T15:20:53.858902Z",
     "shell.execute_reply": "2023-07-19T15:20:53.858074Z"
    },
    "papermill": {
     "duration": 0.023174,
     "end_time": "2023-07-19T15:20:53.860874",
     "exception": false,
     "start_time": "2023-07-19T15:20:53.837700",
     "status": "completed"
    },
    "tags": []
   },
   "outputs": [],
   "source": [
    "# def xgb_optimizer(trial, X, y, K):\n",
    "#     n_estimators = trial.suggest_categorical('n_estimators', [500, 1000, 2000])\n",
    "#     max_depth = trial.suggest_int('max_depth', 4, 10)\n",
    "#     colsample_bytree = trial.suggest_categorical('colsample_bytree', [0.5, 0.6, 0.7, 0.8])\n",
    "#     learning_rate = trial.suggest_float('learning_rate', 1e-3, 1e-2)\n",
    "#     reg_lambda = trial.suggest_categorical('reg_lambda', [0.1, 0.5, 1, 2])\n",
    "    \n",
    "    \n",
    "#     model = xgboost.XGBClassifier(n_estimators=n_estimators,\n",
    "#                           max_depth=max_depth,\n",
    "#                           colsample_bytree=colsample_bytree,\n",
    "#                           learning_rate=learning_rate,\n",
    "#                           reg_lambda=reg_lambda)\n",
    "# #                          scale_pos_weight=4.71)  ## we set class imbalance by using sampling method.\n",
    "    \n",
    "    \n",
    "#     folds = StratifiedKFold(n_splits=K)\n",
    "#     losses = []\n",
    "    \n",
    "#     for train_idx, val_idx in folds.split(X, y):\n",
    "#         X_train = X.iloc[train_idx, :]\n",
    "#         y_train = y.iloc[train_idx]\n",
    "        \n",
    "#         X_val = X.iloc[val_idx, :]\n",
    "#         y_val = y.iloc[val_idx]\n",
    "        \n",
    "#         model.fit(X_train, y_train)\n",
    "#         preds = model.predict_proba(X_val)\n",
    "#         loss = evaluation_metric(y_val, preds)\n",
    "#         losses.append(loss)\n",
    "    \n",
    "    \n",
    "#     return np.mean(losses)"
   ]
  },
  {
   "cell_type": "code",
   "execution_count": 37,
   "id": "ae35789d",
   "metadata": {
    "execution": {
     "iopub.execute_input": "2023-07-19T15:20:53.892595Z",
     "iopub.status.busy": "2023-07-19T15:20:53.892291Z",
     "iopub.status.idle": "2023-07-19T15:20:53.896339Z",
     "shell.execute_reply": "2023-07-19T15:20:53.895418Z"
    },
    "papermill": {
     "duration": 0.022219,
     "end_time": "2023-07-19T15:20:53.898341",
     "exception": false,
     "start_time": "2023-07-19T15:20:53.876122",
     "status": "completed"
    },
    "tags": []
   },
   "outputs": [],
   "source": [
    "# # set configs\n",
    "# is_tuning = True\n",
    "# is_scaling = True\n",
    "# is_pca = False\n",
    "# apply_vif = False\n",
    "# sampling_method = 'hybrid' # 'under' or 'over'\n",
    "# if is_tuning:\n",
    "#     n_trials=30\n",
    "    \n",
    "# # Keras model compile\n",
    "# learning_rate = 1e-2\n",
    "# batch_size = 32\n",
    "# epochs = 10"
   ]
  },
  {
   "cell_type": "code",
   "execution_count": 38,
   "id": "2b123a1b",
   "metadata": {
    "execution": {
     "iopub.execute_input": "2023-07-19T15:20:53.932792Z",
     "iopub.status.busy": "2023-07-19T15:20:53.931849Z",
     "iopub.status.idle": "2023-07-19T15:20:53.936629Z",
     "shell.execute_reply": "2023-07-19T15:20:53.935824Z"
    },
    "papermill": {
     "duration": 0.024377,
     "end_time": "2023-07-19T15:20:53.938721",
     "exception": false,
     "start_time": "2023-07-19T15:20:53.914344",
     "status": "completed"
    },
    "tags": []
   },
   "outputs": [],
   "source": [
    "# import random\n",
    "# import os\n",
    "# import tensorflow as tf\n",
    "\n",
    "\n",
    "# def seed_everything(seed: int = 42):\n",
    "#     random.seed(seed)\n",
    "#     np.random.seed(seed)\n",
    "#     os.environ[\"PYTHONHASHSEED\"] = str(seed)\n",
    "#     tf.random.set_seed(seed)\n",
    "    \n",
    "# seed_everything()"
   ]
  },
  {
   "cell_type": "code",
   "execution_count": 39,
   "id": "7ec29c09",
   "metadata": {
    "execution": {
     "iopub.execute_input": "2023-07-19T15:20:53.971519Z",
     "iopub.status.busy": "2023-07-19T15:20:53.970678Z",
     "iopub.status.idle": "2023-07-19T15:20:53.975007Z",
     "shell.execute_reply": "2023-07-19T15:20:53.974171Z"
    },
    "papermill": {
     "duration": 0.022385,
     "end_time": "2023-07-19T15:20:53.977031",
     "exception": false,
     "start_time": "2023-07-19T15:20:53.954646",
     "status": "completed"
    },
    "tags": []
   },
   "outputs": [],
   "source": [
    "# evaluation_metric = balanced_log_loss"
   ]
  },
  {
   "cell_type": "code",
   "execution_count": 40,
   "id": "2b989b95",
   "metadata": {
    "execution": {
     "iopub.execute_input": "2023-07-19T15:20:54.009269Z",
     "iopub.status.busy": "2023-07-19T15:20:54.008460Z",
     "iopub.status.idle": "2023-07-19T15:20:54.012941Z",
     "shell.execute_reply": "2023-07-19T15:20:54.012044Z"
    },
    "papermill": {
     "duration": 0.022973,
     "end_time": "2023-07-19T15:20:54.015135",
     "exception": false,
     "start_time": "2023-07-19T15:20:53.992162",
     "status": "completed"
    },
    "tags": []
   },
   "outputs": [],
   "source": [
    "# from functools import partial\n",
    "# import optuna\n",
    "\n",
    "# K = 5\n",
    "# opt_func = partial(xgb_optimizer, X=X, y=y, K=K)\n",
    "\n",
    "# if is_tuning:\n",
    "#     xgb_study = optuna.create_study(direction=\"minimize\")\n",
    "#     xgb_study.optimize(opt_func, n_trials=n_trials)"
   ]
  },
  {
   "cell_type": "code",
   "execution_count": 41,
   "id": "bfe19dcb",
   "metadata": {
    "execution": {
     "iopub.execute_input": "2023-07-19T15:20:54.048170Z",
     "iopub.status.busy": "2023-07-19T15:20:54.047903Z",
     "iopub.status.idle": "2023-07-19T15:20:54.051928Z",
     "shell.execute_reply": "2023-07-19T15:20:54.051037Z"
    },
    "papermill": {
     "duration": 0.022777,
     "end_time": "2023-07-19T15:20:54.054026",
     "exception": false,
     "start_time": "2023-07-19T15:20:54.031249",
     "status": "completed"
    },
    "tags": []
   },
   "outputs": [],
   "source": [
    "# # visualize experiment logs\n",
    "# def display_experiment_log(study):\n",
    "#     display(study.trials_dataframe())\n",
    "#     print(\"Best Score: %.4f\" % study.best_value)\n",
    "#     print(\"Best params: \", study.best_trial.params)\n",
    "#     history = study.trials_dataframe()\n",
    "#     display(history[history.value == study.best_value])\n",
    "#     optuna.visualization.plot_optimization_history(study).show()\n",
    "#     optuna.visualization.plot_param_importances(study).show()"
   ]
  },
  {
   "cell_type": "code",
   "execution_count": 42,
   "id": "355667a2",
   "metadata": {
    "execution": {
     "iopub.execute_input": "2023-07-19T15:20:54.086775Z",
     "iopub.status.busy": "2023-07-19T15:20:54.086004Z",
     "iopub.status.idle": "2023-07-19T15:20:54.089969Z",
     "shell.execute_reply": "2023-07-19T15:20:54.089130Z"
    },
    "papermill": {
     "duration": 0.022166,
     "end_time": "2023-07-19T15:20:54.091983",
     "exception": false,
     "start_time": "2023-07-19T15:20:54.069817",
     "status": "completed"
    },
    "tags": []
   },
   "outputs": [],
   "source": [
    "# if is_tuning:\n",
    "#     display_experiment_log(xgb_study)"
   ]
  },
  {
   "cell_type": "code",
   "execution_count": 43,
   "id": "dbf16169",
   "metadata": {
    "execution": {
     "iopub.execute_input": "2023-07-19T15:20:54.125692Z",
     "iopub.status.busy": "2023-07-19T15:20:54.125185Z",
     "iopub.status.idle": "2023-07-19T15:20:54.145067Z",
     "shell.execute_reply": "2023-07-19T15:20:54.144246Z"
    },
    "jupyter": {
     "source_hidden": true
    },
    "papermill": {
     "duration": 0.038689,
     "end_time": "2023-07-19T15:20:54.147033",
     "exception": false,
     "start_time": "2023-07-19T15:20:54.108344",
     "status": "completed"
    },
    "tags": []
   },
   "outputs": [],
   "source": [
    "from optuna.integration import LightGBMPruningCallback\n",
    "from sklearn.metrics import make_scorer\n",
    "def lgbm_optimizer(trial, X, y, K):\n",
    "    param_grid = {\n",
    "        #         \"device_type\": trial.suggest_categorical(\"device_type\", ['gpu']),\n",
    "        \"n_estimators\": trial.suggest_categorical(\"n_estimators\", [10000]),\n",
    "        \"learning_rate\": trial.suggest_float(\"learning_rate\", 0.01, 0.3),\n",
    "        \"num_leaves\": trial.suggest_int(\"num_leaves\", 20, 3000, step=20),\n",
    "        \"max_depth\": trial.suggest_int(\"max_depth\", 3, 12),\n",
    "        \"min_data_in_leaf\": trial.suggest_int(\"min_data_in_leaf\", 200, 10000, step=100),\n",
    "        \"max_bin\": trial.suggest_int(\"max_bin\", 200, 300),\n",
    "        \"lambda_l1\": trial.suggest_int(\"lambda_l1\", 0, 100, step=5),\n",
    "        \"lambda_l2\": trial.suggest_int(\"lambda_l2\", 0, 100, step=5),\n",
    "        \"min_gain_to_split\": trial.suggest_float(\"min_gain_to_split\", 0, 15),\n",
    "        \"bagging_fraction\": trial.suggest_float(\n",
    "            \"bagging_fraction\", 0.2, 0.95, step=0.1\n",
    "        ),\n",
    "        \"bagging_freq\": trial.suggest_categorical(\"bagging_freq\", [1]),\n",
    "        \"feature_fraction\": trial.suggest_float(\n",
    "            \"feature_fraction\", 0.2, 0.95, step=0.1\n",
    "        ),\n",
    "    }\n",
    "    \n",
    "    model = lgb.LGBMClassifier(**param_grid)\n",
    "#                          scale_pos_weight=4.71)  ## we set class imbalance by using sampling method.\n",
    "    \n",
    "    \n",
    "    folds = StratifiedKFold(n_splits=K)\n",
    "    losses = []\n",
    "    \n",
    "    for train_idx, val_idx in folds.split(X, y):\n",
    "        X_train = X.iloc[train_idx, :]\n",
    "        y_train = y.iloc[train_idx]\n",
    "        \n",
    "        X_val = X.iloc[val_idx, :]\n",
    "        y_val = y.iloc[val_idx]\n",
    "        \n",
    "        model.fit(X_train, y_train)\n",
    "#         model.fit(\n",
    "#             X_train,\n",
    "#             y_train,\n",
    "#             eval_set=[(X_val, y_val)],\n",
    "#             eval_metric=\"binary_logloss\",\n",
    "#             early_stopping_rounds=100,\n",
    "#             callbacks=[\n",
    "#                 LightGBMPruningCallback(trial, \"binary_logloss\")\n",
    "#             ],  # Add a pruning callback\n",
    "#         )\n",
    "    \n",
    "        preds = model.predict_proba(X_val)\n",
    "        loss = evaluation_metric(y_val, preds)\n",
    "        losses.append(loss)\n",
    "    \n",
    "    \n",
    "    return np.mean(losses)"
   ]
  },
  {
   "cell_type": "code",
   "execution_count": 44,
   "id": "d0022c3f",
   "metadata": {
    "execution": {
     "iopub.execute_input": "2023-07-19T15:20:54.179784Z",
     "iopub.status.busy": "2023-07-19T15:20:54.179009Z",
     "iopub.status.idle": "2023-07-19T15:20:54.183372Z",
     "shell.execute_reply": "2023-07-19T15:20:54.182411Z"
    },
    "papermill": {
     "duration": 0.023111,
     "end_time": "2023-07-19T15:20:54.185513",
     "exception": false,
     "start_time": "2023-07-19T15:20:54.162402",
     "status": "completed"
    },
    "tags": []
   },
   "outputs": [],
   "source": [
    "# from functools import partial\n",
    "# import optuna\n",
    "\n",
    "# K = 5\n",
    "# opt_func = partial(lgbm_optimizer, X=X, y=y, K=K)\n",
    "\n",
    "# if is_tuning:\n",
    "#     lgb_study = optuna.create_study(direction=\"minimize\")\n",
    "#     lgb_study.optimize(opt_func, n_trials=n_trials)"
   ]
  },
  {
   "cell_type": "code",
   "execution_count": 45,
   "id": "731f2fff",
   "metadata": {
    "execution": {
     "iopub.execute_input": "2023-07-19T15:20:54.217869Z",
     "iopub.status.busy": "2023-07-19T15:20:54.217285Z",
     "iopub.status.idle": "2023-07-19T15:20:54.220873Z",
     "shell.execute_reply": "2023-07-19T15:20:54.220035Z"
    },
    "papermill": {
     "duration": 0.022234,
     "end_time": "2023-07-19T15:20:54.223061",
     "exception": false,
     "start_time": "2023-07-19T15:20:54.200827",
     "status": "completed"
    },
    "tags": []
   },
   "outputs": [],
   "source": [
    "# if is_tuning:\n",
    "#     display_experiment_log(lgb_study)"
   ]
  },
  {
   "cell_type": "code",
   "execution_count": 46,
   "id": "311aa75c",
   "metadata": {
    "execution": {
     "iopub.execute_input": "2023-07-19T15:20:54.255498Z",
     "iopub.status.busy": "2023-07-19T15:20:54.255222Z",
     "iopub.status.idle": "2023-07-19T15:20:54.259962Z",
     "shell.execute_reply": "2023-07-19T15:20:54.259051Z"
    },
    "papermill": {
     "duration": 0.023231,
     "end_time": "2023-07-19T15:20:54.261943",
     "exception": false,
     "start_time": "2023-07-19T15:20:54.238712",
     "status": "completed"
    },
    "tags": []
   },
   "outputs": [],
   "source": [
    "# def rf_optimizer(trial, X, y, K):\n",
    "#     # define parameter to tune\n",
    "#     n_estimators = trial.suggest_categorical('n_estimators', [50, 100, 200])\n",
    "#     max_depth = trial.suggest_int('max_depth', 4, 10)\n",
    "#     max_features = trial.suggest_categorical('max_features', [0.6, 0.7, 0.8])\n",
    "    \n",
    "    \n",
    "#     # set model\n",
    "#     model = RandomForestClassifier(n_estimators=n_estimators,\n",
    "#                                    max_depth=max_depth,\n",
    "#                                    max_features=max_features,\n",
    "#                                    criterion='log_loss',\n",
    "#                                    class_weight='balanced'\n",
    "#                                   )\n",
    "    \n",
    "#     # K-Fold Cross validation\n",
    "#     folds = StratifiedKFold(n_splits=K)\n",
    "#     losses = []\n",
    "    \n",
    "#     for train_idx, val_idx in folds.split(X, y):\n",
    "#         X_train = X.iloc[train_idx, :]\n",
    "#         y_train = y.iloc[train_idx]\n",
    "        \n",
    "#         X_val = X.iloc[val_idx, :]\n",
    "#         y_val = y.iloc[val_idx]\n",
    "        \n",
    "#         model.fit(X_train, y_train)\n",
    "#         preds = model.predict_proba(X_val)\n",
    "#         loss = evaluation_metric(y_val, preds)\n",
    "#         losses.append(loss)\n",
    "    \n",
    "    \n",
    "#     # return mean score of CV\n",
    "#     return np.mean(losses)"
   ]
  },
  {
   "cell_type": "code",
   "execution_count": 47,
   "id": "a8daaa0b",
   "metadata": {
    "execution": {
     "iopub.execute_input": "2023-07-19T15:20:54.294864Z",
     "iopub.status.busy": "2023-07-19T15:20:54.294130Z",
     "iopub.status.idle": "2023-07-19T15:20:54.298561Z",
     "shell.execute_reply": "2023-07-19T15:20:54.297535Z"
    },
    "papermill": {
     "duration": 0.022891,
     "end_time": "2023-07-19T15:20:54.300587",
     "exception": false,
     "start_time": "2023-07-19T15:20:54.277696",
     "status": "completed"
    },
    "tags": []
   },
   "outputs": [],
   "source": [
    "# from functools import partial\n",
    "# import optuna\n",
    "\n",
    "# K = 5\n",
    "# opt_func = partial(rf_optimizer, X=X, y=y, K=K)\n",
    "\n",
    "# if is_tuning:\n",
    "#     rf_study = optuna.create_study(direction=\"minimize\")\n",
    "#     rf_study.optimize(opt_func, n_trials=n_trials)"
   ]
  },
  {
   "cell_type": "code",
   "execution_count": 48,
   "id": "1fc2d811",
   "metadata": {
    "execution": {
     "iopub.execute_input": "2023-07-19T15:20:54.334169Z",
     "iopub.status.busy": "2023-07-19T15:20:54.333310Z",
     "iopub.status.idle": "2023-07-19T15:20:54.337406Z",
     "shell.execute_reply": "2023-07-19T15:20:54.336578Z"
    },
    "papermill": {
     "duration": 0.022939,
     "end_time": "2023-07-19T15:20:54.339350",
     "exception": false,
     "start_time": "2023-07-19T15:20:54.316411",
     "status": "completed"
    },
    "tags": []
   },
   "outputs": [],
   "source": [
    "# if is_tuning:\n",
    "#     display_experiment_log(rf_study)"
   ]
  },
  {
   "cell_type": "markdown",
   "id": "6ae50caf",
   "metadata": {
    "papermill": {
     "duration": 0.015386,
     "end_time": "2023-07-19T15:20:54.370766",
     "exception": false,
     "start_time": "2023-07-19T15:20:54.355380",
     "status": "completed"
    },
    "tags": []
   },
   "source": [
    "# submit"
   ]
  },
  {
   "cell_type": "code",
   "execution_count": 49,
   "id": "07d94254",
   "metadata": {
    "execution": {
     "iopub.execute_input": "2023-07-19T15:20:54.404754Z",
     "iopub.status.busy": "2023-07-19T15:20:54.403258Z",
     "iopub.status.idle": "2023-07-19T15:21:30.910671Z",
     "shell.execute_reply": "2023-07-19T15:21:30.909668Z"
    },
    "papermill": {
     "duration": 36.542135,
     "end_time": "2023-07-19T15:21:30.928838",
     "exception": false,
     "start_time": "2023-07-19T15:20:54.386703",
     "status": "completed"
    },
    "tags": []
   },
   "outputs": [
    {
     "name": "stdout",
     "output_type": "stream",
     "text": [
      "Loading model that can be used for inference only\n",
      "Using a Transformer with 25.82 M parameters\n",
      "[[0.5        0.15378299 0.15946267 0.18675434]\n",
      " [0.5        0.15378299 0.15946267 0.18675434]\n",
      " [0.5        0.15378299 0.15946267 0.18675434]\n",
      " [0.5        0.15378299 0.15946267 0.18675434]\n",
      " [0.5        0.15378299 0.15946267 0.18675434]]\n"
     ]
    }
   ],
   "source": [
    "m = WeightedEns()\n",
    "m.fit(np.array(pred_and_time),np.array(greeksdf['Alpha']))\n",
    "p = m.predict_proba(test_pred_and_time)\n",
    "print(p)\n",
    "assert (m.classes_[0] == \"A\")\n",
    "p = np.concatenate((p[:,:1],np.sum(p[:,1:],1,keepdims=True)), 1)\n",
    "\n",
    "p0 = p[:,:1]\n",
    "# p0[p0 > 0.86] = 1\n",
    "# p0[p0 < 0.14] = 0\n",
    "submit=pd.DataFrame(testdf[\"Id\"], columns=[\"Id\"])\n",
    "submit[\"class_0\"] = p0\n",
    "submit[\"class_1\"] = 1 - p0\n",
    "submit.to_csv('submission.csv',index=False)"
   ]
  },
  {
   "cell_type": "code",
   "execution_count": 50,
   "id": "c31ad081",
   "metadata": {
    "execution": {
     "iopub.execute_input": "2023-07-19T15:21:30.962984Z",
     "iopub.status.busy": "2023-07-19T15:21:30.962158Z",
     "iopub.status.idle": "2023-07-19T15:21:30.979197Z",
     "shell.execute_reply": "2023-07-19T15:21:30.978212Z"
    },
    "papermill": {
     "duration": 0.036064,
     "end_time": "2023-07-19T15:21:30.981214",
     "exception": false,
     "start_time": "2023-07-19T15:21:30.945150",
     "status": "completed"
    },
    "tags": []
   },
   "outputs": [
    {
     "data": {
      "text/html": [
       "<div>\n",
       "<style scoped>\n",
       "    .dataframe tbody tr th:only-of-type {\n",
       "        vertical-align: middle;\n",
       "    }\n",
       "\n",
       "    .dataframe tbody tr th {\n",
       "        vertical-align: top;\n",
       "    }\n",
       "\n",
       "    .dataframe thead th {\n",
       "        text-align: right;\n",
       "    }\n",
       "</style>\n",
       "<table border=\"1\" class=\"dataframe\">\n",
       "  <thead>\n",
       "    <tr style=\"text-align: right;\">\n",
       "      <th></th>\n",
       "      <th>Id</th>\n",
       "      <th>class_0</th>\n",
       "      <th>class_1</th>\n",
       "    </tr>\n",
       "  </thead>\n",
       "  <tbody>\n",
       "    <tr>\n",
       "      <th>0</th>\n",
       "      <td>00eed32682bb</td>\n",
       "      <td>0.5</td>\n",
       "      <td>0.5</td>\n",
       "    </tr>\n",
       "    <tr>\n",
       "      <th>1</th>\n",
       "      <td>010ebe33f668</td>\n",
       "      <td>0.5</td>\n",
       "      <td>0.5</td>\n",
       "    </tr>\n",
       "    <tr>\n",
       "      <th>2</th>\n",
       "      <td>02fa521e1838</td>\n",
       "      <td>0.5</td>\n",
       "      <td>0.5</td>\n",
       "    </tr>\n",
       "    <tr>\n",
       "      <th>3</th>\n",
       "      <td>040e15f562a2</td>\n",
       "      <td>0.5</td>\n",
       "      <td>0.5</td>\n",
       "    </tr>\n",
       "    <tr>\n",
       "      <th>4</th>\n",
       "      <td>046e85c7cc7f</td>\n",
       "      <td>0.5</td>\n",
       "      <td>0.5</td>\n",
       "    </tr>\n",
       "  </tbody>\n",
       "</table>\n",
       "</div>"
      ],
      "text/plain": [
       "             Id  class_0  class_1\n",
       "0  00eed32682bb      0.5      0.5\n",
       "1  010ebe33f668      0.5      0.5\n",
       "2  02fa521e1838      0.5      0.5\n",
       "3  040e15f562a2      0.5      0.5\n",
       "4  046e85c7cc7f      0.5      0.5"
      ]
     },
     "execution_count": 50,
     "metadata": {},
     "output_type": "execute_result"
    }
   ],
   "source": [
    "pd.read_csv('submission.csv')"
   ]
  },
  {
   "cell_type": "code",
   "execution_count": null,
   "id": "15c1f626",
   "metadata": {
    "papermill": {
     "duration": 0.016078,
     "end_time": "2023-07-19T15:21:31.013668",
     "exception": false,
     "start_time": "2023-07-19T15:21:30.997590",
     "status": "completed"
    },
    "tags": []
   },
   "outputs": [],
   "source": []
  }
 ],
 "metadata": {
  "kernelspec": {
   "display_name": "Python 3",
   "language": "python",
   "name": "python3"
  },
  "language_info": {
   "codemirror_mode": {
    "name": "ipython",
    "version": 3
   },
   "file_extension": ".py",
   "mimetype": "text/x-python",
   "name": "python",
   "nbconvert_exporter": "python",
   "pygments_lexer": "ipython3",
   "version": "3.10.10"
  },
  "papermill": {
   "default_parameters": {},
   "duration": 197.872325,
   "end_time": "2023-07-19T15:21:33.721308",
   "environment_variables": {},
   "exception": null,
   "input_path": "__notebook__.ipynb",
   "output_path": "__notebook__.ipynb",
   "parameters": {},
   "start_time": "2023-07-19T15:18:15.848983",
   "version": "2.4.0"
  }
 },
 "nbformat": 4,
 "nbformat_minor": 5
}
